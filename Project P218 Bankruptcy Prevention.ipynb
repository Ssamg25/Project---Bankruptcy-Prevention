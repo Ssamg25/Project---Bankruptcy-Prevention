{
 "cells": [
  {
   "cell_type": "markdown",
   "id": "1ef11c51",
   "metadata": {},
   "source": [
    "#  P218\n",
    "\n",
    "# Group - 2\n",
    "#### Name -\n",
    "1. **Shunottara Alhat**\n",
    "2. ** **\n",
    "\n",
    "# <dir> <center> Project Name -  Bankruptcy Prevention </center></dir>\n"
   ]
  },
  {
   "cell_type": "markdown",
   "id": "aaabe233",
   "metadata": {},
   "source": [
    "### Business Objective:\n",
    "\n",
    "This is a classification project, since the variable to predict is binary (bankruptcy or non-bankruptcy). The goal here is to model the probability that a business goes bankrupt from different features.\n",
    " "
   ]
  },
  {
   "cell_type": "markdown",
   "id": "d9f97964",
   "metadata": {},
   "source": [
    "#### Import Libraries "
   ]
  },
  {
   "cell_type": "code",
   "execution_count": 96,
   "id": "4f20c106",
   "metadata": {},
   "outputs": [],
   "source": [
    "import pandas as pd\n",
    "import numpy as np\n",
    "import seaborn as sns\n",
    "from sklearn.preprocessing import LabelEncoder\n",
    "from sklearn.ensemble import IsolationForest\n",
    "from matplotlib import pyplot\n",
    "from sklearn.model_selection import train_test_split # train and test\n",
    "from sklearn.linear_model import LogisticRegression\n",
    "from sklearn import metrics\n",
    "from sklearn import preprocessing \n",
    "from sklearn.metrics import classification_report\n",
    "from sklearn.metrics import f1_score,precision_score,confusion_matrix,recall_score,accuracy_score\n",
    "from sklearn.svm import SVC\n",
    "from sklearn.ensemble import RandomForestClassifier, AdaBoostClassifier, GradientBoostingClassifier\n",
    "from sklearn.tree import DecisionTreeClassifier\n",
    "from sklearn.neighbors import KNeighborsClassifier\n",
    "from sklearn.multiclass import OneVsRestClassifier\n",
    "from xgboost import XGBClassifier\n",
    "from lightgbm import LGBMClassifier\n",
    "\n",
    "from matplotlib import pyplot as plt\n",
    "import warnings\n",
    "warnings.filterwarnings('ignore')"
   ]
  },
  {
   "cell_type": "code",
   "execution_count": 94,
   "id": "26217ed3",
   "metadata": {},
   "outputs": [
    {
     "name": "stdout",
     "output_type": "stream",
     "text": [
      "Collecting lightgbm\n",
      "  Downloading lightgbm-3.3.5-py3-none-win_amd64.whl (1.0 MB)\n",
      "Requirement already satisfied: scikit-learn!=0.22.0 in c:\\users\\shunottara\\anaconda3\\lib\\site-packages (from lightgbm) (1.1.3)\n",
      "Requirement already satisfied: scipy in c:\\users\\shunottara\\anaconda3\\lib\\site-packages (from lightgbm) (1.9.3)\n",
      "Requirement already satisfied: wheel in c:\\users\\shunottara\\anaconda3\\lib\\site-packages (from lightgbm) (0.37.1)\n",
      "Requirement already satisfied: numpy in c:\\users\\shunottara\\anaconda3\\lib\\site-packages (from lightgbm) (1.21.5)\n",
      "Requirement already satisfied: threadpoolctl>=2.0.0 in c:\\users\\shunottara\\anaconda3\\lib\\site-packages (from scikit-learn!=0.22.0->lightgbm) (2.2.0)\n",
      "Requirement already satisfied: joblib>=1.0.0 in c:\\users\\shunottara\\anaconda3\\lib\\site-packages (from scikit-learn!=0.22.0->lightgbm) (1.1.0)\n",
      "Installing collected packages: lightgbm\n",
      "Successfully installed lightgbm-3.3.5\n"
     ]
    }
   ],
   "source": [
    "#!pip install lightgbm"
   ]
  },
  {
   "cell_type": "markdown",
   "id": "cc529e53",
   "metadata": {},
   "source": [
    "#### Import Data "
   ]
  },
  {
   "cell_type": "code",
   "execution_count": 2,
   "id": "56d46809",
   "metadata": {},
   "outputs": [
    {
     "data": {
      "text/html": [
       "<div>\n",
       "<style scoped>\n",
       "    .dataframe tbody tr th:only-of-type {\n",
       "        vertical-align: middle;\n",
       "    }\n",
       "\n",
       "    .dataframe tbody tr th {\n",
       "        vertical-align: top;\n",
       "    }\n",
       "\n",
       "    .dataframe thead th {\n",
       "        text-align: right;\n",
       "    }\n",
       "</style>\n",
       "<table border=\"1\" class=\"dataframe\">\n",
       "  <thead>\n",
       "    <tr style=\"text-align: right;\">\n",
       "      <th></th>\n",
       "      <th>industrial_risk; management_risk; financial_flexibility; credibility; competitiveness; operating_risk; class</th>\n",
       "    </tr>\n",
       "  </thead>\n",
       "  <tbody>\n",
       "    <tr>\n",
       "      <th>0</th>\n",
       "      <td>0.5;1;0;0;0;0.5;bankruptcy</td>\n",
       "    </tr>\n",
       "    <tr>\n",
       "      <th>1</th>\n",
       "      <td>0;1;0;0;0;1;bankruptcy</td>\n",
       "    </tr>\n",
       "    <tr>\n",
       "      <th>2</th>\n",
       "      <td>1;0;0;0;0;1;bankruptcy</td>\n",
       "    </tr>\n",
       "    <tr>\n",
       "      <th>3</th>\n",
       "      <td>0.5;0;0;0.5;0;1;bankruptcy</td>\n",
       "    </tr>\n",
       "    <tr>\n",
       "      <th>4</th>\n",
       "      <td>1;1;0;0;0;1;bankruptcy</td>\n",
       "    </tr>\n",
       "    <tr>\n",
       "      <th>...</th>\n",
       "      <td>...</td>\n",
       "    </tr>\n",
       "    <tr>\n",
       "      <th>245</th>\n",
       "      <td>0;1;1;1;1;1;non-bankruptcy</td>\n",
       "    </tr>\n",
       "    <tr>\n",
       "      <th>246</th>\n",
       "      <td>1;1;0.5;1;1;0;non-bankruptcy</td>\n",
       "    </tr>\n",
       "    <tr>\n",
       "      <th>247</th>\n",
       "      <td>0;1;1;0.5;0.5;0;non-bankruptcy</td>\n",
       "    </tr>\n",
       "    <tr>\n",
       "      <th>248</th>\n",
       "      <td>1;0;0.5;1;0.5;0;non-bankruptcy</td>\n",
       "    </tr>\n",
       "    <tr>\n",
       "      <th>249</th>\n",
       "      <td>1;0;0.5;0.5;1;1;non-bankruptcy</td>\n",
       "    </tr>\n",
       "  </tbody>\n",
       "</table>\n",
       "<p>250 rows × 1 columns</p>\n",
       "</div>"
      ],
      "text/plain": [
       "    industrial_risk; management_risk; financial_flexibility; credibility; competitiveness; operating_risk; class\n",
       "0                           0.5;1;0;0;0;0.5;bankruptcy                                                          \n",
       "1                               0;1;0;0;0;1;bankruptcy                                                          \n",
       "2                               1;0;0;0;0;1;bankruptcy                                                          \n",
       "3                           0.5;0;0;0.5;0;1;bankruptcy                                                          \n",
       "4                               1;1;0;0;0;1;bankruptcy                                                          \n",
       "..                                                 ...                                                          \n",
       "245                         0;1;1;1;1;1;non-bankruptcy                                                          \n",
       "246                       1;1;0.5;1;1;0;non-bankruptcy                                                          \n",
       "247                     0;1;1;0.5;0.5;0;non-bankruptcy                                                          \n",
       "248                     1;0;0.5;1;0.5;0;non-bankruptcy                                                          \n",
       "249                     1;0;0.5;0.5;1;1;non-bankruptcy                                                          \n",
       "\n",
       "[250 rows x 1 columns]"
      ]
     },
     "execution_count": 2,
     "metadata": {},
     "output_type": "execute_result"
    }
   ],
   "source": [
    "Bankrupt = pd.read_excel(r\"bankruptcy-prevention (1).xlsx\")\n",
    "Bankrupt"
   ]
  },
  {
   "cell_type": "markdown",
   "id": "983d85c8",
   "metadata": {},
   "source": [
    "#### We need to have LOW(industrial risk,management risk,operating risk) and HIGH(financial flexibility,credibility,competitiveness) in ordere to avoid Bankruptcy "
   ]
  },
  {
   "cell_type": "code",
   "execution_count": 3,
   "id": "0aa8d490",
   "metadata": {},
   "outputs": [],
   "source": [
    "# Converting excel file into CSV file\n",
    "Bankrupt.to_csv (\"Bankruptcy-Prevention.csv\", index = None, header=True)"
   ]
  },
  {
   "cell_type": "code",
   "execution_count": 4,
   "id": "07495475",
   "metadata": {},
   "outputs": [
    {
     "data": {
      "text/html": [
       "<div>\n",
       "<style scoped>\n",
       "    .dataframe tbody tr th:only-of-type {\n",
       "        vertical-align: middle;\n",
       "    }\n",
       "\n",
       "    .dataframe tbody tr th {\n",
       "        vertical-align: top;\n",
       "    }\n",
       "\n",
       "    .dataframe thead th {\n",
       "        text-align: right;\n",
       "    }\n",
       "</style>\n",
       "<table border=\"1\" class=\"dataframe\">\n",
       "  <thead>\n",
       "    <tr style=\"text-align: right;\">\n",
       "      <th></th>\n",
       "      <th>industrial_risk</th>\n",
       "      <th>management_risk</th>\n",
       "      <th>financial_flexibility</th>\n",
       "      <th>credibility</th>\n",
       "      <th>competitiveness</th>\n",
       "      <th>operating_risk</th>\n",
       "      <th>class</th>\n",
       "    </tr>\n",
       "  </thead>\n",
       "  <tbody>\n",
       "    <tr>\n",
       "      <th>0</th>\n",
       "      <td>0.5</td>\n",
       "      <td>1.0</td>\n",
       "      <td>0.0</td>\n",
       "      <td>0.0</td>\n",
       "      <td>0.0</td>\n",
       "      <td>0.5</td>\n",
       "      <td>bankruptcy</td>\n",
       "    </tr>\n",
       "    <tr>\n",
       "      <th>1</th>\n",
       "      <td>0.0</td>\n",
       "      <td>1.0</td>\n",
       "      <td>0.0</td>\n",
       "      <td>0.0</td>\n",
       "      <td>0.0</td>\n",
       "      <td>1.0</td>\n",
       "      <td>bankruptcy</td>\n",
       "    </tr>\n",
       "    <tr>\n",
       "      <th>2</th>\n",
       "      <td>1.0</td>\n",
       "      <td>0.0</td>\n",
       "      <td>0.0</td>\n",
       "      <td>0.0</td>\n",
       "      <td>0.0</td>\n",
       "      <td>1.0</td>\n",
       "      <td>bankruptcy</td>\n",
       "    </tr>\n",
       "    <tr>\n",
       "      <th>3</th>\n",
       "      <td>0.5</td>\n",
       "      <td>0.0</td>\n",
       "      <td>0.0</td>\n",
       "      <td>0.5</td>\n",
       "      <td>0.0</td>\n",
       "      <td>1.0</td>\n",
       "      <td>bankruptcy</td>\n",
       "    </tr>\n",
       "    <tr>\n",
       "      <th>4</th>\n",
       "      <td>1.0</td>\n",
       "      <td>1.0</td>\n",
       "      <td>0.0</td>\n",
       "      <td>0.0</td>\n",
       "      <td>0.0</td>\n",
       "      <td>1.0</td>\n",
       "      <td>bankruptcy</td>\n",
       "    </tr>\n",
       "    <tr>\n",
       "      <th>...</th>\n",
       "      <td>...</td>\n",
       "      <td>...</td>\n",
       "      <td>...</td>\n",
       "      <td>...</td>\n",
       "      <td>...</td>\n",
       "      <td>...</td>\n",
       "      <td>...</td>\n",
       "    </tr>\n",
       "    <tr>\n",
       "      <th>245</th>\n",
       "      <td>0.0</td>\n",
       "      <td>1.0</td>\n",
       "      <td>1.0</td>\n",
       "      <td>1.0</td>\n",
       "      <td>1.0</td>\n",
       "      <td>1.0</td>\n",
       "      <td>non-bankruptcy</td>\n",
       "    </tr>\n",
       "    <tr>\n",
       "      <th>246</th>\n",
       "      <td>1.0</td>\n",
       "      <td>1.0</td>\n",
       "      <td>0.5</td>\n",
       "      <td>1.0</td>\n",
       "      <td>1.0</td>\n",
       "      <td>0.0</td>\n",
       "      <td>non-bankruptcy</td>\n",
       "    </tr>\n",
       "    <tr>\n",
       "      <th>247</th>\n",
       "      <td>0.0</td>\n",
       "      <td>1.0</td>\n",
       "      <td>1.0</td>\n",
       "      <td>0.5</td>\n",
       "      <td>0.5</td>\n",
       "      <td>0.0</td>\n",
       "      <td>non-bankruptcy</td>\n",
       "    </tr>\n",
       "    <tr>\n",
       "      <th>248</th>\n",
       "      <td>1.0</td>\n",
       "      <td>0.0</td>\n",
       "      <td>0.5</td>\n",
       "      <td>1.0</td>\n",
       "      <td>0.5</td>\n",
       "      <td>0.0</td>\n",
       "      <td>non-bankruptcy</td>\n",
       "    </tr>\n",
       "    <tr>\n",
       "      <th>249</th>\n",
       "      <td>1.0</td>\n",
       "      <td>0.0</td>\n",
       "      <td>0.5</td>\n",
       "      <td>0.5</td>\n",
       "      <td>1.0</td>\n",
       "      <td>1.0</td>\n",
       "      <td>non-bankruptcy</td>\n",
       "    </tr>\n",
       "  </tbody>\n",
       "</table>\n",
       "<p>250 rows × 7 columns</p>\n",
       "</div>"
      ],
      "text/plain": [
       "     industrial_risk   management_risk   financial_flexibility   credibility  \\\n",
       "0                0.5               1.0                     0.0           0.0   \n",
       "1                0.0               1.0                     0.0           0.0   \n",
       "2                1.0               0.0                     0.0           0.0   \n",
       "3                0.5               0.0                     0.0           0.5   \n",
       "4                1.0               1.0                     0.0           0.0   \n",
       "..               ...               ...                     ...           ...   \n",
       "245              0.0               1.0                     1.0           1.0   \n",
       "246              1.0               1.0                     0.5           1.0   \n",
       "247              0.0               1.0                     1.0           0.5   \n",
       "248              1.0               0.0                     0.5           1.0   \n",
       "249              1.0               0.0                     0.5           0.5   \n",
       "\n",
       "      competitiveness   operating_risk           class  \n",
       "0                 0.0              0.5      bankruptcy  \n",
       "1                 0.0              1.0      bankruptcy  \n",
       "2                 0.0              1.0      bankruptcy  \n",
       "3                 0.0              1.0      bankruptcy  \n",
       "4                 0.0              1.0      bankruptcy  \n",
       "..                ...              ...             ...  \n",
       "245               1.0              1.0  non-bankruptcy  \n",
       "246               1.0              0.0  non-bankruptcy  \n",
       "247               0.5              0.0  non-bankruptcy  \n",
       "248               0.5              0.0  non-bankruptcy  \n",
       "249               1.0              1.0  non-bankruptcy  \n",
       "\n",
       "[250 rows x 7 columns]"
      ]
     },
     "execution_count": 4,
     "metadata": {},
     "output_type": "execute_result"
    }
   ],
   "source": [
    "# Reading and Converting the output csv file into a dataframe object\n",
    "Bankruptcy = pd.DataFrame(pd.read_csv(\"Bankruptcy-Prevention.csv\", sep = ';', header = 0))\n",
    "\n",
    "Bankruptcy"
   ]
  },
  {
   "cell_type": "markdown",
   "id": "7c32e81d",
   "metadata": {},
   "source": [
    "### Here we are changing the target variable to bankruptcy = 0, non-bankruptcy = 1 "
   ]
  },
  {
   "cell_type": "code",
   "execution_count": 5,
   "id": "6a6af6e7",
   "metadata": {},
   "outputs": [],
   "source": [
    "#bankrupt_new = Bankruptcy.iloc[:,:]  # iloc helps us to select a specific row or column from the data set\n",
    "#bankrupt_new"
   ]
  },
  {
   "cell_type": "code",
   "execution_count": 6,
   "id": "8d015532",
   "metadata": {},
   "outputs": [],
   "source": [
    "labelencoder = LabelEncoder()\n",
    "Bankruptcy.iloc[:, -1] = labelencoder.fit_transform(Bankruptcy.iloc[:,-1])"
   ]
  },
  {
   "cell_type": "code",
   "execution_count": 7,
   "id": "36e086f7",
   "metadata": {},
   "outputs": [
    {
     "data": {
      "text/html": [
       "<div>\n",
       "<style scoped>\n",
       "    .dataframe tbody tr th:only-of-type {\n",
       "        vertical-align: middle;\n",
       "    }\n",
       "\n",
       "    .dataframe tbody tr th {\n",
       "        vertical-align: top;\n",
       "    }\n",
       "\n",
       "    .dataframe thead th {\n",
       "        text-align: right;\n",
       "    }\n",
       "</style>\n",
       "<table border=\"1\" class=\"dataframe\">\n",
       "  <thead>\n",
       "    <tr style=\"text-align: right;\">\n",
       "      <th></th>\n",
       "      <th>industrial_risk</th>\n",
       "      <th>management_risk</th>\n",
       "      <th>financial_flexibility</th>\n",
       "      <th>credibility</th>\n",
       "      <th>competitiveness</th>\n",
       "      <th>operating_risk</th>\n",
       "      <th>class</th>\n",
       "    </tr>\n",
       "  </thead>\n",
       "  <tbody>\n",
       "    <tr>\n",
       "      <th>0</th>\n",
       "      <td>0.5</td>\n",
       "      <td>1.0</td>\n",
       "      <td>0.0</td>\n",
       "      <td>0.0</td>\n",
       "      <td>0.0</td>\n",
       "      <td>0.5</td>\n",
       "      <td>0</td>\n",
       "    </tr>\n",
       "    <tr>\n",
       "      <th>1</th>\n",
       "      <td>0.0</td>\n",
       "      <td>1.0</td>\n",
       "      <td>0.0</td>\n",
       "      <td>0.0</td>\n",
       "      <td>0.0</td>\n",
       "      <td>1.0</td>\n",
       "      <td>0</td>\n",
       "    </tr>\n",
       "    <tr>\n",
       "      <th>2</th>\n",
       "      <td>1.0</td>\n",
       "      <td>0.0</td>\n",
       "      <td>0.0</td>\n",
       "      <td>0.0</td>\n",
       "      <td>0.0</td>\n",
       "      <td>1.0</td>\n",
       "      <td>0</td>\n",
       "    </tr>\n",
       "    <tr>\n",
       "      <th>3</th>\n",
       "      <td>0.5</td>\n",
       "      <td>0.0</td>\n",
       "      <td>0.0</td>\n",
       "      <td>0.5</td>\n",
       "      <td>0.0</td>\n",
       "      <td>1.0</td>\n",
       "      <td>0</td>\n",
       "    </tr>\n",
       "    <tr>\n",
       "      <th>4</th>\n",
       "      <td>1.0</td>\n",
       "      <td>1.0</td>\n",
       "      <td>0.0</td>\n",
       "      <td>0.0</td>\n",
       "      <td>0.0</td>\n",
       "      <td>1.0</td>\n",
       "      <td>0</td>\n",
       "    </tr>\n",
       "    <tr>\n",
       "      <th>...</th>\n",
       "      <td>...</td>\n",
       "      <td>...</td>\n",
       "      <td>...</td>\n",
       "      <td>...</td>\n",
       "      <td>...</td>\n",
       "      <td>...</td>\n",
       "      <td>...</td>\n",
       "    </tr>\n",
       "    <tr>\n",
       "      <th>245</th>\n",
       "      <td>0.0</td>\n",
       "      <td>1.0</td>\n",
       "      <td>1.0</td>\n",
       "      <td>1.0</td>\n",
       "      <td>1.0</td>\n",
       "      <td>1.0</td>\n",
       "      <td>1</td>\n",
       "    </tr>\n",
       "    <tr>\n",
       "      <th>246</th>\n",
       "      <td>1.0</td>\n",
       "      <td>1.0</td>\n",
       "      <td>0.5</td>\n",
       "      <td>1.0</td>\n",
       "      <td>1.0</td>\n",
       "      <td>0.0</td>\n",
       "      <td>1</td>\n",
       "    </tr>\n",
       "    <tr>\n",
       "      <th>247</th>\n",
       "      <td>0.0</td>\n",
       "      <td>1.0</td>\n",
       "      <td>1.0</td>\n",
       "      <td>0.5</td>\n",
       "      <td>0.5</td>\n",
       "      <td>0.0</td>\n",
       "      <td>1</td>\n",
       "    </tr>\n",
       "    <tr>\n",
       "      <th>248</th>\n",
       "      <td>1.0</td>\n",
       "      <td>0.0</td>\n",
       "      <td>0.5</td>\n",
       "      <td>1.0</td>\n",
       "      <td>0.5</td>\n",
       "      <td>0.0</td>\n",
       "      <td>1</td>\n",
       "    </tr>\n",
       "    <tr>\n",
       "      <th>249</th>\n",
       "      <td>1.0</td>\n",
       "      <td>0.0</td>\n",
       "      <td>0.5</td>\n",
       "      <td>0.5</td>\n",
       "      <td>1.0</td>\n",
       "      <td>1.0</td>\n",
       "      <td>1</td>\n",
       "    </tr>\n",
       "  </tbody>\n",
       "</table>\n",
       "<p>250 rows × 7 columns</p>\n",
       "</div>"
      ],
      "text/plain": [
       "     industrial_risk   management_risk   financial_flexibility   credibility  \\\n",
       "0                0.5               1.0                     0.0           0.0   \n",
       "1                0.0               1.0                     0.0           0.0   \n",
       "2                1.0               0.0                     0.0           0.0   \n",
       "3                0.5               0.0                     0.0           0.5   \n",
       "4                1.0               1.0                     0.0           0.0   \n",
       "..               ...               ...                     ...           ...   \n",
       "245              0.0               1.0                     1.0           1.0   \n",
       "246              1.0               1.0                     0.5           1.0   \n",
       "247              0.0               1.0                     1.0           0.5   \n",
       "248              1.0               0.0                     0.5           1.0   \n",
       "249              1.0               0.0                     0.5           0.5   \n",
       "\n",
       "      competitiveness   operating_risk   class  \n",
       "0                 0.0              0.5       0  \n",
       "1                 0.0              1.0       0  \n",
       "2                 0.0              1.0       0  \n",
       "3                 0.0              1.0       0  \n",
       "4                 0.0              1.0       0  \n",
       "..                ...              ...     ...  \n",
       "245               1.0              1.0       1  \n",
       "246               1.0              0.0       1  \n",
       "247               0.5              0.0       1  \n",
       "248               0.5              0.0       1  \n",
       "249               1.0              1.0       1  \n",
       "\n",
       "[250 rows x 7 columns]"
      ]
     },
     "execution_count": 7,
     "metadata": {},
     "output_type": "execute_result"
    }
   ],
   "source": [
    "Bankruptcy"
   ]
  },
  {
   "cell_type": "markdown",
   "id": "dd598315",
   "metadata": {},
   "source": [
    "#### Using Label Encoder at a categorical column to get binary value as its a classification project "
   ]
  },
  {
   "cell_type": "markdown",
   "id": "f5e95532",
   "metadata": {},
   "source": [
    "# Exploratory Data Analysis"
   ]
  },
  {
   "cell_type": "code",
   "execution_count": 8,
   "id": "b825dd55",
   "metadata": {},
   "outputs": [
    {
     "data": {
      "text/html": [
       "<div>\n",
       "<style scoped>\n",
       "    .dataframe tbody tr th:only-of-type {\n",
       "        vertical-align: middle;\n",
       "    }\n",
       "\n",
       "    .dataframe tbody tr th {\n",
       "        vertical-align: top;\n",
       "    }\n",
       "\n",
       "    .dataframe thead th {\n",
       "        text-align: right;\n",
       "    }\n",
       "</style>\n",
       "<table border=\"1\" class=\"dataframe\">\n",
       "  <thead>\n",
       "    <tr style=\"text-align: right;\">\n",
       "      <th></th>\n",
       "      <th>industrial_risk</th>\n",
       "      <th>management_risk</th>\n",
       "      <th>financial_flexibility</th>\n",
       "      <th>credibility</th>\n",
       "      <th>competitiveness</th>\n",
       "      <th>operating_risk</th>\n",
       "      <th>class</th>\n",
       "    </tr>\n",
       "  </thead>\n",
       "  <tbody>\n",
       "    <tr>\n",
       "      <th>count</th>\n",
       "      <td>250.000000</td>\n",
       "      <td>250.000000</td>\n",
       "      <td>250.000000</td>\n",
       "      <td>250.000000</td>\n",
       "      <td>250.000000</td>\n",
       "      <td>250.000000</td>\n",
       "      <td>250.000000</td>\n",
       "    </tr>\n",
       "    <tr>\n",
       "      <th>mean</th>\n",
       "      <td>0.518000</td>\n",
       "      <td>0.614000</td>\n",
       "      <td>0.376000</td>\n",
       "      <td>0.470000</td>\n",
       "      <td>0.476000</td>\n",
       "      <td>0.570000</td>\n",
       "      <td>0.572000</td>\n",
       "    </tr>\n",
       "    <tr>\n",
       "      <th>std</th>\n",
       "      <td>0.411526</td>\n",
       "      <td>0.410705</td>\n",
       "      <td>0.401583</td>\n",
       "      <td>0.415682</td>\n",
       "      <td>0.440682</td>\n",
       "      <td>0.434575</td>\n",
       "      <td>0.495781</td>\n",
       "    </tr>\n",
       "    <tr>\n",
       "      <th>min</th>\n",
       "      <td>0.000000</td>\n",
       "      <td>0.000000</td>\n",
       "      <td>0.000000</td>\n",
       "      <td>0.000000</td>\n",
       "      <td>0.000000</td>\n",
       "      <td>0.000000</td>\n",
       "      <td>0.000000</td>\n",
       "    </tr>\n",
       "    <tr>\n",
       "      <th>25%</th>\n",
       "      <td>0.000000</td>\n",
       "      <td>0.500000</td>\n",
       "      <td>0.000000</td>\n",
       "      <td>0.000000</td>\n",
       "      <td>0.000000</td>\n",
       "      <td>0.000000</td>\n",
       "      <td>0.000000</td>\n",
       "    </tr>\n",
       "    <tr>\n",
       "      <th>50%</th>\n",
       "      <td>0.500000</td>\n",
       "      <td>0.500000</td>\n",
       "      <td>0.500000</td>\n",
       "      <td>0.500000</td>\n",
       "      <td>0.500000</td>\n",
       "      <td>0.500000</td>\n",
       "      <td>1.000000</td>\n",
       "    </tr>\n",
       "    <tr>\n",
       "      <th>75%</th>\n",
       "      <td>1.000000</td>\n",
       "      <td>1.000000</td>\n",
       "      <td>0.500000</td>\n",
       "      <td>1.000000</td>\n",
       "      <td>1.000000</td>\n",
       "      <td>1.000000</td>\n",
       "      <td>1.000000</td>\n",
       "    </tr>\n",
       "    <tr>\n",
       "      <th>max</th>\n",
       "      <td>1.000000</td>\n",
       "      <td>1.000000</td>\n",
       "      <td>1.000000</td>\n",
       "      <td>1.000000</td>\n",
       "      <td>1.000000</td>\n",
       "      <td>1.000000</td>\n",
       "      <td>1.000000</td>\n",
       "    </tr>\n",
       "  </tbody>\n",
       "</table>\n",
       "</div>"
      ],
      "text/plain": [
       "       industrial_risk   management_risk   financial_flexibility  \\\n",
       "count       250.000000        250.000000              250.000000   \n",
       "mean          0.518000          0.614000                0.376000   \n",
       "std           0.411526          0.410705                0.401583   \n",
       "min           0.000000          0.000000                0.000000   \n",
       "25%           0.000000          0.500000                0.000000   \n",
       "50%           0.500000          0.500000                0.500000   \n",
       "75%           1.000000          1.000000                0.500000   \n",
       "max           1.000000          1.000000                1.000000   \n",
       "\n",
       "        credibility   competitiveness   operating_risk       class  \n",
       "count    250.000000        250.000000       250.000000  250.000000  \n",
       "mean       0.470000          0.476000         0.570000    0.572000  \n",
       "std        0.415682          0.440682         0.434575    0.495781  \n",
       "min        0.000000          0.000000         0.000000    0.000000  \n",
       "25%        0.000000          0.000000         0.000000    0.000000  \n",
       "50%        0.500000          0.500000         0.500000    1.000000  \n",
       "75%        1.000000          1.000000         1.000000    1.000000  \n",
       "max        1.000000          1.000000         1.000000    1.000000  "
      ]
     },
     "execution_count": 8,
     "metadata": {},
     "output_type": "execute_result"
    }
   ],
   "source": [
    "# Describe\n",
    "\n",
    "Bankruptcy.describe()"
   ]
  },
  {
   "cell_type": "code",
   "execution_count": 9,
   "id": "79479583",
   "metadata": {},
   "outputs": [
    {
     "name": "stdout",
     "output_type": "stream",
     "text": [
      "<class 'pandas.core.frame.DataFrame'>\n",
      "RangeIndex: 250 entries, 0 to 249\n",
      "Data columns (total 7 columns):\n",
      " #   Column                  Non-Null Count  Dtype  \n",
      "---  ------                  --------------  -----  \n",
      " 0   industrial_risk         250 non-null    float64\n",
      " 1    management_risk        250 non-null    float64\n",
      " 2    financial_flexibility  250 non-null    float64\n",
      " 3    credibility            250 non-null    float64\n",
      " 4    competitiveness        250 non-null    float64\n",
      " 5    operating_risk         250 non-null    float64\n",
      " 6    class                  250 non-null    int32  \n",
      "dtypes: float64(6), int32(1)\n",
      "memory usage: 12.8 KB\n"
     ]
    }
   ],
   "source": [
    "# Info\n",
    "\n",
    "Bankruptcy.info()"
   ]
  },
  {
   "cell_type": "code",
   "execution_count": 10,
   "id": "8ef4b2b5",
   "metadata": {},
   "outputs": [
    {
     "data": {
      "text/plain": [
       "(250, 7)"
      ]
     },
     "execution_count": 10,
     "metadata": {},
     "output_type": "execute_result"
    }
   ],
   "source": [
    "# Shape\n",
    "\n",
    "Bankruptcy.shape"
   ]
  },
  {
   "cell_type": "markdown",
   "id": "ba0e87e7",
   "metadata": {},
   "source": [
    "#### Missing Value "
   ]
  },
  {
   "cell_type": "code",
   "execution_count": 11,
   "id": "4f11568a",
   "metadata": {},
   "outputs": [
    {
     "data": {
      "text/plain": [
       "industrial_risk           0\n",
       " management_risk          0\n",
       " financial_flexibility    0\n",
       " credibility              0\n",
       " competitiveness          0\n",
       " operating_risk           0\n",
       " class                    0\n",
       "dtype: int64"
      ]
     },
     "execution_count": 11,
     "metadata": {},
     "output_type": "execute_result"
    }
   ],
   "source": [
    "Bankruptcy.isnull().sum()"
   ]
  },
  {
   "cell_type": "markdown",
   "id": "c24d3acb",
   "metadata": {},
   "source": [
    "#### Correlation "
   ]
  },
  {
   "cell_type": "code",
   "execution_count": 12,
   "id": "2ae12c36",
   "metadata": {},
   "outputs": [
    {
     "data": {
      "text/html": [
       "<div>\n",
       "<style scoped>\n",
       "    .dataframe tbody tr th:only-of-type {\n",
       "        vertical-align: middle;\n",
       "    }\n",
       "\n",
       "    .dataframe tbody tr th {\n",
       "        vertical-align: top;\n",
       "    }\n",
       "\n",
       "    .dataframe thead th {\n",
       "        text-align: right;\n",
       "    }\n",
       "</style>\n",
       "<table border=\"1\" class=\"dataframe\">\n",
       "  <thead>\n",
       "    <tr style=\"text-align: right;\">\n",
       "      <th></th>\n",
       "      <th>industrial_risk</th>\n",
       "      <th>management_risk</th>\n",
       "      <th>financial_flexibility</th>\n",
       "      <th>credibility</th>\n",
       "      <th>competitiveness</th>\n",
       "      <th>operating_risk</th>\n",
       "      <th>class</th>\n",
       "    </tr>\n",
       "  </thead>\n",
       "  <tbody>\n",
       "    <tr>\n",
       "      <th>industrial_risk</th>\n",
       "      <td>1.000000</td>\n",
       "      <td>0.255127</td>\n",
       "      <td>-0.162624</td>\n",
       "      <td>-0.014438</td>\n",
       "      <td>-0.257814</td>\n",
       "      <td>0.144507</td>\n",
       "      <td>-0.227823</td>\n",
       "    </tr>\n",
       "    <tr>\n",
       "      <th>management_risk</th>\n",
       "      <td>0.255127</td>\n",
       "      <td>1.000000</td>\n",
       "      <td>-0.254845</td>\n",
       "      <td>-0.303341</td>\n",
       "      <td>-0.306568</td>\n",
       "      <td>0.213874</td>\n",
       "      <td>-0.370838</td>\n",
       "    </tr>\n",
       "    <tr>\n",
       "      <th>financial_flexibility</th>\n",
       "      <td>-0.162624</td>\n",
       "      <td>-0.254845</td>\n",
       "      <td>1.000000</td>\n",
       "      <td>0.524951</td>\n",
       "      <td>0.686612</td>\n",
       "      <td>-0.116903</td>\n",
       "      <td>0.751020</td>\n",
       "    </tr>\n",
       "    <tr>\n",
       "      <th>credibility</th>\n",
       "      <td>-0.014438</td>\n",
       "      <td>-0.303341</td>\n",
       "      <td>0.524951</td>\n",
       "      <td>1.000000</td>\n",
       "      <td>0.675689</td>\n",
       "      <td>-0.288458</td>\n",
       "      <td>0.755909</td>\n",
       "    </tr>\n",
       "    <tr>\n",
       "      <th>competitiveness</th>\n",
       "      <td>-0.257814</td>\n",
       "      <td>-0.306568</td>\n",
       "      <td>0.686612</td>\n",
       "      <td>0.675689</td>\n",
       "      <td>1.000000</td>\n",
       "      <td>-0.211383</td>\n",
       "      <td>0.899452</td>\n",
       "    </tr>\n",
       "    <tr>\n",
       "      <th>operating_risk</th>\n",
       "      <td>0.144507</td>\n",
       "      <td>0.213874</td>\n",
       "      <td>-0.116903</td>\n",
       "      <td>-0.288458</td>\n",
       "      <td>-0.211383</td>\n",
       "      <td>1.000000</td>\n",
       "      <td>-0.279786</td>\n",
       "    </tr>\n",
       "    <tr>\n",
       "      <th>class</th>\n",
       "      <td>-0.227823</td>\n",
       "      <td>-0.370838</td>\n",
       "      <td>0.751020</td>\n",
       "      <td>0.755909</td>\n",
       "      <td>0.899452</td>\n",
       "      <td>-0.279786</td>\n",
       "      <td>1.000000</td>\n",
       "    </tr>\n",
       "  </tbody>\n",
       "</table>\n",
       "</div>"
      ],
      "text/plain": [
       "                        industrial_risk   management_risk  \\\n",
       "industrial_risk                1.000000          0.255127   \n",
       " management_risk               0.255127          1.000000   \n",
       " financial_flexibility        -0.162624         -0.254845   \n",
       " credibility                  -0.014438         -0.303341   \n",
       " competitiveness              -0.257814         -0.306568   \n",
       " operating_risk                0.144507          0.213874   \n",
       " class                        -0.227823         -0.370838   \n",
       "\n",
       "                         financial_flexibility   credibility  \\\n",
       "industrial_risk                      -0.162624     -0.014438   \n",
       " management_risk                     -0.254845     -0.303341   \n",
       " financial_flexibility                1.000000      0.524951   \n",
       " credibility                          0.524951      1.000000   \n",
       " competitiveness                      0.686612      0.675689   \n",
       " operating_risk                      -0.116903     -0.288458   \n",
       " class                                0.751020      0.755909   \n",
       "\n",
       "                         competitiveness   operating_risk     class  \n",
       "industrial_risk                -0.257814         0.144507 -0.227823  \n",
       " management_risk               -0.306568         0.213874 -0.370838  \n",
       " financial_flexibility          0.686612        -0.116903  0.751020  \n",
       " credibility                    0.675689        -0.288458  0.755909  \n",
       " competitiveness                1.000000        -0.211383  0.899452  \n",
       " operating_risk                -0.211383         1.000000 -0.279786  \n",
       " class                          0.899452        -0.279786  1.000000  "
      ]
     },
     "execution_count": 12,
     "metadata": {},
     "output_type": "execute_result"
    }
   ],
   "source": [
    "Bankruptcy.corr()"
   ]
  },
  {
   "cell_type": "markdown",
   "id": "f08ca0ff",
   "metadata": {},
   "source": [
    "#### IN this correlation matrix we can see no columns are correlated to each other neither input variables "
   ]
  },
  {
   "cell_type": "code",
   "execution_count": 13,
   "id": "53b225a6",
   "metadata": {
    "scrolled": true
   },
   "outputs": [
    {
     "data": {
      "text/plain": [
       "<AxesSubplot:>"
      ]
     },
     "execution_count": 13,
     "metadata": {},
     "output_type": "execute_result"
    },
    {
     "data": {
      "image/png": "[encoded data removed]",
      "text/plain": [
       "<Figure size 432x288 with 2 Axes>"
      ]
     },
     "metadata": {
      "needs_background": "light"
     },
     "output_type": "display_data"
    }
   ],
   "source": [
    "# Heatmap\n",
    "\n",
    "sns.heatmap(Bankruptcy.corr(), vmin = -1, vmax = 1, annot = True)"
   ]
  },
  {
   "cell_type": "code",
   "execution_count": 14,
   "id": "e4ed7f6e",
   "metadata": {
    "scrolled": false
   },
   "outputs": [
    {
     "data": {
      "text/plain": [
       "<seaborn.axisgrid.PairGrid at 0x2a57f2bf430>"
      ]
     },
     "execution_count": 14,
     "metadata": {},
     "output_type": "execute_result"
    },
    {
     "data": {
      "image/png": "[encoded data removed]",
      "text/plain": [
       "<Figure size 1260x1260 with 56 Axes>"
      ]
     },
     "metadata": {
      "needs_background": "light"
     },
     "output_type": "display_data"
    }
   ],
   "source": [
    "# Outlier Detection and Data Visualization\n",
    "\n",
    "sns.pairplot(Bankruptcy)"
   ]
  },
  {
   "cell_type": "markdown",
   "id": "067bc872",
   "metadata": {},
   "source": [
    "#### OUTLIER DETECTION USING ISOLATION FOREST \n",
    "Our algoritm can suffer a lot we dont remove the outliers and to avoid this problem we will drop the values**\n",
    "\n",
    "In an Isolation Forest, randomly sub-sampled data is processed in a tree structure based on randomly selected features. The samples that travel deeper into the tree are less likely to be anomalies as they required more cuts to isolate them"
   ]
  },
  {
   "cell_type": "code",
   "execution_count": 15,
   "id": "3c37dca5",
   "metadata": {},
   "outputs": [
    {
     "data": {
      "text/plain": [
       "array([ 1,  1,  1,  1,  1,  1,  1,  1,  1,  1,  1,  1,  1,  1,  1,  1,  1,\n",
       "        1,  1,  1,  1,  1,  1,  1,  1,  1,  1, -1,  1,  1,  1,  1,  1,  1,\n",
       "        1,  1,  1,  1,  1,  1,  1,  1,  1,  1,  1,  1,  1,  1,  1,  1,  1,\n",
       "        1,  1,  1,  1,  1,  1,  1,  1,  1,  1,  1,  1,  1,  1,  1,  1,  1,\n",
       "        1,  1,  1,  1, -1,  1,  1,  1,  1,  1,  1,  1,  1,  1,  1,  1,  1,\n",
       "        1,  1,  1,  1,  1,  1,  1,  1,  1,  1,  1,  1,  1,  1,  1,  1,  1,\n",
       "        1,  1,  1,  1,  1,  1,  1,  1,  1,  1,  1,  1,  1,  1,  1,  1,  1,\n",
       "        1,  1,  1,  1,  1,  1,  1,  1,  1,  1,  1,  1,  1,  1,  1,  1,  1,\n",
       "        1,  1,  1,  1,  1,  1,  1,  1,  1,  1,  1,  1,  1,  1,  1,  1,  1,\n",
       "        1,  1,  1,  1,  1,  1,  1,  1,  1,  1,  1,  1,  1,  1,  1,  1,  1,\n",
       "        1,  1,  1,  1,  1,  1,  1,  1,  1,  1,  1,  1,  1,  1,  1,  1,  1,\n",
       "        1,  1,  1,  1,  1, -1,  1,  1,  1,  1,  1,  1,  1,  1,  1,  1,  1,\n",
       "        1,  1,  1,  1,  1,  1,  1,  1,  1,  1,  1,  1,  1,  1,  1,  1,  1,\n",
       "        1,  1,  1,  1,  1,  1,  1,  1,  1,  1,  1,  1,  1,  1,  1,  1,  1,\n",
       "        1,  1,  1,  1,  1,  1,  1,  1,  1,  1,  1,  1])"
      ]
     },
     "execution_count": 15,
     "metadata": {},
     "output_type": "execute_result"
    }
   ],
   "source": [
    "# training the model\n",
    "clf = IsolationForest(random_state=10,contamination=.01)\n",
    "clf.fit(Bankruptcy)\n",
    "y_pred_outliers = clf.predict(Bankruptcy)\n",
    "y_pred_outliers"
   ]
  },
  {
   "cell_type": "code",
   "execution_count": 16,
   "id": "69436403",
   "metadata": {},
   "outputs": [
    {
     "data": {
      "text/html": [
       "<div>\n",
       "<style scoped>\n",
       "    .dataframe tbody tr th:only-of-type {\n",
       "        vertical-align: middle;\n",
       "    }\n",
       "\n",
       "    .dataframe tbody tr th {\n",
       "        vertical-align: top;\n",
       "    }\n",
       "\n",
       "    .dataframe thead th {\n",
       "        text-align: right;\n",
       "    }\n",
       "</style>\n",
       "<table border=\"1\" class=\"dataframe\">\n",
       "  <thead>\n",
       "    <tr style=\"text-align: right;\">\n",
       "      <th></th>\n",
       "      <th>industrial_risk</th>\n",
       "      <th>management_risk</th>\n",
       "      <th>financial_flexibility</th>\n",
       "      <th>credibility</th>\n",
       "      <th>competitiveness</th>\n",
       "      <th>operating_risk</th>\n",
       "      <th>class</th>\n",
       "      <th>scores</th>\n",
       "      <th>anomaly</th>\n",
       "    </tr>\n",
       "  </thead>\n",
       "  <tbody>\n",
       "    <tr>\n",
       "      <th>0</th>\n",
       "      <td>0.5</td>\n",
       "      <td>1.0</td>\n",
       "      <td>0.0</td>\n",
       "      <td>0.0</td>\n",
       "      <td>0.0</td>\n",
       "      <td>0.5</td>\n",
       "      <td>0</td>\n",
       "      <td>0.145712</td>\n",
       "      <td>1</td>\n",
       "    </tr>\n",
       "    <tr>\n",
       "      <th>1</th>\n",
       "      <td>0.0</td>\n",
       "      <td>1.0</td>\n",
       "      <td>0.0</td>\n",
       "      <td>0.0</td>\n",
       "      <td>0.0</td>\n",
       "      <td>1.0</td>\n",
       "      <td>0</td>\n",
       "      <td>0.179722</td>\n",
       "      <td>1</td>\n",
       "    </tr>\n",
       "    <tr>\n",
       "      <th>2</th>\n",
       "      <td>1.0</td>\n",
       "      <td>0.0</td>\n",
       "      <td>0.0</td>\n",
       "      <td>0.0</td>\n",
       "      <td>0.0</td>\n",
       "      <td>1.0</td>\n",
       "      <td>0</td>\n",
       "      <td>0.089607</td>\n",
       "      <td>1</td>\n",
       "    </tr>\n",
       "    <tr>\n",
       "      <th>3</th>\n",
       "      <td>0.5</td>\n",
       "      <td>0.0</td>\n",
       "      <td>0.0</td>\n",
       "      <td>0.5</td>\n",
       "      <td>0.0</td>\n",
       "      <td>1.0</td>\n",
       "      <td>0</td>\n",
       "      <td>0.067834</td>\n",
       "      <td>1</td>\n",
       "    </tr>\n",
       "    <tr>\n",
       "      <th>4</th>\n",
       "      <td>1.0</td>\n",
       "      <td>1.0</td>\n",
       "      <td>0.0</td>\n",
       "      <td>0.0</td>\n",
       "      <td>0.0</td>\n",
       "      <td>1.0</td>\n",
       "      <td>0</td>\n",
       "      <td>0.215060</td>\n",
       "      <td>1</td>\n",
       "    </tr>\n",
       "    <tr>\n",
       "      <th>...</th>\n",
       "      <td>...</td>\n",
       "      <td>...</td>\n",
       "      <td>...</td>\n",
       "      <td>...</td>\n",
       "      <td>...</td>\n",
       "      <td>...</td>\n",
       "      <td>...</td>\n",
       "      <td>...</td>\n",
       "      <td>...</td>\n",
       "    </tr>\n",
       "    <tr>\n",
       "      <th>245</th>\n",
       "      <td>0.0</td>\n",
       "      <td>1.0</td>\n",
       "      <td>1.0</td>\n",
       "      <td>1.0</td>\n",
       "      <td>1.0</td>\n",
       "      <td>1.0</td>\n",
       "      <td>1</td>\n",
       "      <td>0.104623</td>\n",
       "      <td>1</td>\n",
       "    </tr>\n",
       "    <tr>\n",
       "      <th>246</th>\n",
       "      <td>1.0</td>\n",
       "      <td>1.0</td>\n",
       "      <td>0.5</td>\n",
       "      <td>1.0</td>\n",
       "      <td>1.0</td>\n",
       "      <td>0.0</td>\n",
       "      <td>1</td>\n",
       "      <td>0.091653</td>\n",
       "      <td>1</td>\n",
       "    </tr>\n",
       "    <tr>\n",
       "      <th>247</th>\n",
       "      <td>0.0</td>\n",
       "      <td>1.0</td>\n",
       "      <td>1.0</td>\n",
       "      <td>0.5</td>\n",
       "      <td>0.5</td>\n",
       "      <td>0.0</td>\n",
       "      <td>1</td>\n",
       "      <td>0.088232</td>\n",
       "      <td>1</td>\n",
       "    </tr>\n",
       "    <tr>\n",
       "      <th>248</th>\n",
       "      <td>1.0</td>\n",
       "      <td>0.0</td>\n",
       "      <td>0.5</td>\n",
       "      <td>1.0</td>\n",
       "      <td>0.5</td>\n",
       "      <td>0.0</td>\n",
       "      <td>1</td>\n",
       "      <td>0.068579</td>\n",
       "      <td>1</td>\n",
       "    </tr>\n",
       "    <tr>\n",
       "      <th>249</th>\n",
       "      <td>1.0</td>\n",
       "      <td>0.0</td>\n",
       "      <td>0.5</td>\n",
       "      <td>0.5</td>\n",
       "      <td>1.0</td>\n",
       "      <td>1.0</td>\n",
       "      <td>1</td>\n",
       "      <td>0.096902</td>\n",
       "      <td>1</td>\n",
       "    </tr>\n",
       "  </tbody>\n",
       "</table>\n",
       "<p>250 rows × 9 columns</p>\n",
       "</div>"
      ],
      "text/plain": [
       "     industrial_risk   management_risk   financial_flexibility   credibility  \\\n",
       "0                0.5               1.0                     0.0           0.0   \n",
       "1                0.0               1.0                     0.0           0.0   \n",
       "2                1.0               0.0                     0.0           0.0   \n",
       "3                0.5               0.0                     0.0           0.5   \n",
       "4                1.0               1.0                     0.0           0.0   \n",
       "..               ...               ...                     ...           ...   \n",
       "245              0.0               1.0                     1.0           1.0   \n",
       "246              1.0               1.0                     0.5           1.0   \n",
       "247              0.0               1.0                     1.0           0.5   \n",
       "248              1.0               0.0                     0.5           1.0   \n",
       "249              1.0               0.0                     0.5           0.5   \n",
       "\n",
       "      competitiveness   operating_risk   class    scores  anomaly  \n",
       "0                 0.0              0.5       0  0.145712        1  \n",
       "1                 0.0              1.0       0  0.179722        1  \n",
       "2                 0.0              1.0       0  0.089607        1  \n",
       "3                 0.0              1.0       0  0.067834        1  \n",
       "4                 0.0              1.0       0  0.215060        1  \n",
       "..                ...              ...     ...       ...      ...  \n",
       "245               1.0              1.0       1  0.104623        1  \n",
       "246               1.0              0.0       1  0.091653        1  \n",
       "247               0.5              0.0       1  0.088232        1  \n",
       "248               0.5              0.0       1  0.068579        1  \n",
       "249               1.0              1.0       1  0.096902        1  \n",
       "\n",
       "[250 rows x 9 columns]"
      ]
     },
     "execution_count": 16,
     "metadata": {},
     "output_type": "execute_result"
    }
   ],
   "source": [
    "Bankruptcy['scores'] = clf.decision_function(Bankruptcy)\n",
    "Bankruptcy['anomaly'] = clf.predict(Bankruptcy.iloc[:,0:7])\n",
    "Bankruptcy"
   ]
  },
  {
   "cell_type": "code",
   "execution_count": 17,
   "id": "cdf3b20c",
   "metadata": {},
   "outputs": [
    {
     "data": {
      "text/html": [
       "<div>\n",
       "<style scoped>\n",
       "    .dataframe tbody tr th:only-of-type {\n",
       "        vertical-align: middle;\n",
       "    }\n",
       "\n",
       "    .dataframe tbody tr th {\n",
       "        vertical-align: top;\n",
       "    }\n",
       "\n",
       "    .dataframe thead th {\n",
       "        text-align: right;\n",
       "    }\n",
       "</style>\n",
       "<table border=\"1\" class=\"dataframe\">\n",
       "  <thead>\n",
       "    <tr style=\"text-align: right;\">\n",
       "      <th></th>\n",
       "      <th>industrial_risk</th>\n",
       "      <th>management_risk</th>\n",
       "      <th>financial_flexibility</th>\n",
       "      <th>credibility</th>\n",
       "      <th>competitiveness</th>\n",
       "      <th>operating_risk</th>\n",
       "      <th>class</th>\n",
       "      <th>scores</th>\n",
       "      <th>anomaly</th>\n",
       "    </tr>\n",
       "  </thead>\n",
       "  <tbody>\n",
       "    <tr>\n",
       "      <th>27</th>\n",
       "      <td>0.0</td>\n",
       "      <td>0.0</td>\n",
       "      <td>0.0</td>\n",
       "      <td>0.0</td>\n",
       "      <td>0.0</td>\n",
       "      <td>1.0</td>\n",
       "      <td>0</td>\n",
       "      <td>-0.000517</td>\n",
       "      <td>-1</td>\n",
       "    </tr>\n",
       "    <tr>\n",
       "      <th>72</th>\n",
       "      <td>1.0</td>\n",
       "      <td>0.5</td>\n",
       "      <td>1.0</td>\n",
       "      <td>0.5</td>\n",
       "      <td>0.0</td>\n",
       "      <td>0.0</td>\n",
       "      <td>0</td>\n",
       "      <td>-0.044748</td>\n",
       "      <td>-1</td>\n",
       "    </tr>\n",
       "    <tr>\n",
       "      <th>192</th>\n",
       "      <td>0.5</td>\n",
       "      <td>1.0</td>\n",
       "      <td>0.0</td>\n",
       "      <td>0.0</td>\n",
       "      <td>1.0</td>\n",
       "      <td>0.0</td>\n",
       "      <td>1</td>\n",
       "      <td>-0.002184</td>\n",
       "      <td>-1</td>\n",
       "    </tr>\n",
       "  </tbody>\n",
       "</table>\n",
       "</div>"
      ],
      "text/plain": [
       "     industrial_risk   management_risk   financial_flexibility   credibility  \\\n",
       "27               0.0               0.0                     0.0           0.0   \n",
       "72               1.0               0.5                     1.0           0.5   \n",
       "192              0.5               1.0                     0.0           0.0   \n",
       "\n",
       "      competitiveness   operating_risk   class    scores  anomaly  \n",
       "27                0.0              1.0       0 -0.000517       -1  \n",
       "72                0.0              0.0       0 -0.044748       -1  \n",
       "192               1.0              0.0       1 -0.002184       -1  "
      ]
     },
     "execution_count": 17,
     "metadata": {},
     "output_type": "execute_result"
    }
   ],
   "source": [
    "#print the anomaly\n",
    "\n",
    "Bankruptcy[Bankruptcy['anomaly']==-1]"
   ]
  },
  {
   "cell_type": "markdown",
   "id": "1c955625",
   "metadata": {},
   "source": [
    "#### These are the outliers. Now we will drop them and reset the index"
   ]
  },
  {
   "cell_type": "code",
   "execution_count": 18,
   "id": "c648777c",
   "metadata": {},
   "outputs": [
    {
     "data": {
      "text/html": [
       "<div>\n",
       "<style scoped>\n",
       "    .dataframe tbody tr th:only-of-type {\n",
       "        vertical-align: middle;\n",
       "    }\n",
       "\n",
       "    .dataframe tbody tr th {\n",
       "        vertical-align: top;\n",
       "    }\n",
       "\n",
       "    .dataframe thead th {\n",
       "        text-align: right;\n",
       "    }\n",
       "</style>\n",
       "<table border=\"1\" class=\"dataframe\">\n",
       "  <thead>\n",
       "    <tr style=\"text-align: right;\">\n",
       "      <th></th>\n",
       "      <th>industrial_risk</th>\n",
       "      <th>management_risk</th>\n",
       "      <th>financial_flexibility</th>\n",
       "      <th>credibility</th>\n",
       "      <th>competitiveness</th>\n",
       "      <th>operating_risk</th>\n",
       "      <th>class</th>\n",
       "      <th>scores</th>\n",
       "      <th>anomaly</th>\n",
       "    </tr>\n",
       "  </thead>\n",
       "  <tbody>\n",
       "    <tr>\n",
       "      <th>0</th>\n",
       "      <td>0.5</td>\n",
       "      <td>1.0</td>\n",
       "      <td>0.0</td>\n",
       "      <td>0.0</td>\n",
       "      <td>0.0</td>\n",
       "      <td>0.5</td>\n",
       "      <td>0</td>\n",
       "      <td>0.145712</td>\n",
       "      <td>1</td>\n",
       "    </tr>\n",
       "    <tr>\n",
       "      <th>1</th>\n",
       "      <td>0.0</td>\n",
       "      <td>1.0</td>\n",
       "      <td>0.0</td>\n",
       "      <td>0.0</td>\n",
       "      <td>0.0</td>\n",
       "      <td>1.0</td>\n",
       "      <td>0</td>\n",
       "      <td>0.179722</td>\n",
       "      <td>1</td>\n",
       "    </tr>\n",
       "    <tr>\n",
       "      <th>2</th>\n",
       "      <td>1.0</td>\n",
       "      <td>0.0</td>\n",
       "      <td>0.0</td>\n",
       "      <td>0.0</td>\n",
       "      <td>0.0</td>\n",
       "      <td>1.0</td>\n",
       "      <td>0</td>\n",
       "      <td>0.089607</td>\n",
       "      <td>1</td>\n",
       "    </tr>\n",
       "    <tr>\n",
       "      <th>3</th>\n",
       "      <td>0.5</td>\n",
       "      <td>0.0</td>\n",
       "      <td>0.0</td>\n",
       "      <td>0.5</td>\n",
       "      <td>0.0</td>\n",
       "      <td>1.0</td>\n",
       "      <td>0</td>\n",
       "      <td>0.067834</td>\n",
       "      <td>1</td>\n",
       "    </tr>\n",
       "    <tr>\n",
       "      <th>4</th>\n",
       "      <td>1.0</td>\n",
       "      <td>1.0</td>\n",
       "      <td>0.0</td>\n",
       "      <td>0.0</td>\n",
       "      <td>0.0</td>\n",
       "      <td>1.0</td>\n",
       "      <td>0</td>\n",
       "      <td>0.215060</td>\n",
       "      <td>1</td>\n",
       "    </tr>\n",
       "    <tr>\n",
       "      <th>...</th>\n",
       "      <td>...</td>\n",
       "      <td>...</td>\n",
       "      <td>...</td>\n",
       "      <td>...</td>\n",
       "      <td>...</td>\n",
       "      <td>...</td>\n",
       "      <td>...</td>\n",
       "      <td>...</td>\n",
       "      <td>...</td>\n",
       "    </tr>\n",
       "    <tr>\n",
       "      <th>242</th>\n",
       "      <td>0.0</td>\n",
       "      <td>1.0</td>\n",
       "      <td>1.0</td>\n",
       "      <td>1.0</td>\n",
       "      <td>1.0</td>\n",
       "      <td>1.0</td>\n",
       "      <td>1</td>\n",
       "      <td>0.104623</td>\n",
       "      <td>1</td>\n",
       "    </tr>\n",
       "    <tr>\n",
       "      <th>243</th>\n",
       "      <td>1.0</td>\n",
       "      <td>1.0</td>\n",
       "      <td>0.5</td>\n",
       "      <td>1.0</td>\n",
       "      <td>1.0</td>\n",
       "      <td>0.0</td>\n",
       "      <td>1</td>\n",
       "      <td>0.091653</td>\n",
       "      <td>1</td>\n",
       "    </tr>\n",
       "    <tr>\n",
       "      <th>244</th>\n",
       "      <td>0.0</td>\n",
       "      <td>1.0</td>\n",
       "      <td>1.0</td>\n",
       "      <td>0.5</td>\n",
       "      <td>0.5</td>\n",
       "      <td>0.0</td>\n",
       "      <td>1</td>\n",
       "      <td>0.088232</td>\n",
       "      <td>1</td>\n",
       "    </tr>\n",
       "    <tr>\n",
       "      <th>245</th>\n",
       "      <td>1.0</td>\n",
       "      <td>0.0</td>\n",
       "      <td>0.5</td>\n",
       "      <td>1.0</td>\n",
       "      <td>0.5</td>\n",
       "      <td>0.0</td>\n",
       "      <td>1</td>\n",
       "      <td>0.068579</td>\n",
       "      <td>1</td>\n",
       "    </tr>\n",
       "    <tr>\n",
       "      <th>246</th>\n",
       "      <td>1.0</td>\n",
       "      <td>0.0</td>\n",
       "      <td>0.5</td>\n",
       "      <td>0.5</td>\n",
       "      <td>1.0</td>\n",
       "      <td>1.0</td>\n",
       "      <td>1</td>\n",
       "      <td>0.096902</td>\n",
       "      <td>1</td>\n",
       "    </tr>\n",
       "  </tbody>\n",
       "</table>\n",
       "<p>247 rows × 9 columns</p>\n",
       "</div>"
      ],
      "text/plain": [
       "     industrial_risk   management_risk   financial_flexibility   credibility  \\\n",
       "0                0.5               1.0                     0.0           0.0   \n",
       "1                0.0               1.0                     0.0           0.0   \n",
       "2                1.0               0.0                     0.0           0.0   \n",
       "3                0.5               0.0                     0.0           0.5   \n",
       "4                1.0               1.0                     0.0           0.0   \n",
       "..               ...               ...                     ...           ...   \n",
       "242              0.0               1.0                     1.0           1.0   \n",
       "243              1.0               1.0                     0.5           1.0   \n",
       "244              0.0               1.0                     1.0           0.5   \n",
       "245              1.0               0.0                     0.5           1.0   \n",
       "246              1.0               0.0                     0.5           0.5   \n",
       "\n",
       "      competitiveness   operating_risk   class    scores  anomaly  \n",
       "0                 0.0              0.5       0  0.145712        1  \n",
       "1                 0.0              1.0       0  0.179722        1  \n",
       "2                 0.0              1.0       0  0.089607        1  \n",
       "3                 0.0              1.0       0  0.067834        1  \n",
       "4                 0.0              1.0       0  0.215060        1  \n",
       "..                ...              ...     ...       ...      ...  \n",
       "242               1.0              1.0       1  0.104623        1  \n",
       "243               1.0              0.0       1  0.091653        1  \n",
       "244               0.5              0.0       1  0.088232        1  \n",
       "245               0.5              0.0       1  0.068579        1  \n",
       "246               1.0              1.0       1  0.096902        1  \n",
       "\n",
       "[247 rows x 9 columns]"
      ]
     },
     "execution_count": 18,
     "metadata": {},
     "output_type": "execute_result"
    }
   ],
   "source": [
    "Bankruptcy = Bankruptcy.drop(Bankruptcy.index[[27, 72, 192]], axis=0)\n",
    "Bankruptcy.reset_index(drop=True,inplace = True)\n",
    "Bankruptcy"
   ]
  },
  {
   "cell_type": "markdown",
   "id": "8f573ee7",
   "metadata": {},
   "source": [
    "### Univariate Histogram "
   ]
  },
  {
   "cell_type": "code",
   "execution_count": 19,
   "id": "118cc403",
   "metadata": {},
   "outputs": [
    {
     "data": {
      "text/plain": [
       "<function matplotlib.pyplot.show(close=None, block=None)>"
      ]
     },
     "execution_count": 19,
     "metadata": {},
     "output_type": "execute_result"
    },
    {
     "data": {
      "image/png": "[encoded data removed]",
      "text/plain": [
       "<Figure size 1008x720 with 6 Axes>"
      ]
     },
     "metadata": {
      "needs_background": "light"
     },
     "output_type": "display_data"
    }
   ],
   "source": [
    "data1 = Bankruptcy.iloc[0:,:6]\n",
    "data1.hist(figsize=(14,10))\n",
    "pyplot.show"
   ]
  },
  {
   "cell_type": "markdown",
   "id": "f979833c",
   "metadata": {},
   "source": [
    "### Split the data into Train and Test\n"
   ]
  },
  {
   "cell_type": "code",
   "execution_count": 20,
   "id": "8775c351",
   "metadata": {},
   "outputs": [],
   "source": [
    "# Input\n",
    "X = Bankruptcy.iloc[:,0:6]\n",
    "\n",
    "# Target variable\n",
    "\n",
    "y = Bankruptcy.iloc[:,6]"
   ]
  },
  {
   "cell_type": "code",
   "execution_count": 21,
   "id": "db9450dc",
   "metadata": {},
   "outputs": [
    {
     "data": {
      "text/plain": [
       "((185, 6), (62, 6))"
      ]
     },
     "execution_count": 21,
     "metadata": {},
     "output_type": "execute_result"
    }
   ],
   "source": [
    "x_train, x_test, y_train, y_test = train_test_split(X , y, test_size = 0.25, random_state = 0)\n",
    "x_train.shape, x_test.shape"
   ]
  },
  {
   "cell_type": "markdown",
   "id": "6b7c2a1f",
   "metadata": {},
   "source": [
    "# Build Models"
   ]
  },
  {
   "cell_type": "markdown",
   "id": "7790502f",
   "metadata": {},
   "source": [
    "### Support Vector Machine Classifier "
   ]
  },
  {
   "cell_type": "code",
   "execution_count": 22,
   "id": "5f0ad9e3",
   "metadata": {},
   "outputs": [],
   "source": [
    "\n",
    "sv = SVC()\n",
    "sv.fit(x_train,y_train)\n",
    "predict1 = sv.predict(x_test)"
   ]
  },
  {
   "cell_type": "code",
   "execution_count": 23,
   "id": "85383f27",
   "metadata": {},
   "outputs": [
    {
     "data": {
      "text/plain": [
       "33     0\n",
       "171    1\n",
       "76     0\n",
       "168    1\n",
       "222    1\n",
       "      ..\n",
       "67     0\n",
       "192    1\n",
       "117    1\n",
       "47     0\n",
       "172    1\n",
       "Name:  class, Length: 185, dtype: int32"
      ]
     },
     "execution_count": 23,
     "metadata": {},
     "output_type": "execute_result"
    }
   ],
   "source": [
    "y_train"
   ]
  },
  {
   "cell_type": "code",
   "execution_count": 24,
   "id": "941258af",
   "metadata": {},
   "outputs": [
    {
     "data": {
      "text/plain": [
       "1.0"
      ]
     },
     "execution_count": 24,
     "metadata": {},
     "output_type": "execute_result"
    }
   ],
   "source": [
    "predict11= sv.predict(x_train)\n",
    "accuracy_11 = accuracy_score(y_train,predict11)\n",
    "accuracy_11        #accuracy of train data"
   ]
  },
  {
   "cell_type": "code",
   "execution_count": 25,
   "id": "d2422a78",
   "metadata": {},
   "outputs": [
    {
     "data": {
      "text/plain": [
       "1.0"
      ]
     },
     "execution_count": 25,
     "metadata": {},
     "output_type": "execute_result"
    }
   ],
   "source": [
    "accuracy_1 = accuracy_score(y_test,predict1)\n",
    "accuracy_1      #accuracy of test data"
   ]
  },
  {
   "cell_type": "code",
   "execution_count": 26,
   "id": "b45c3c56",
   "metadata": {},
   "outputs": [
    {
     "data": {
      "text/plain": [
       "array([[21,  0],\n",
       "       [ 0, 41]], dtype=int64)"
      ]
     },
     "execution_count": 26,
     "metadata": {},
     "output_type": "execute_result"
    }
   ],
   "source": [
    "cm1 = confusion_matrix(y_test,predict1)\n",
    "cm1"
   ]
  },
  {
   "cell_type": "code",
   "execution_count": 27,
   "id": "b45bde47",
   "metadata": {},
   "outputs": [
    {
     "data": {
      "text/plain": [
       "Text(33.0, 0.5, 'Truth')"
      ]
     },
     "execution_count": 27,
     "metadata": {},
     "output_type": "execute_result"
    },
    {
     "data": {
      "image/png": "[encoded data removed]",
      "text/plain": [
       "<Figure size 432x288 with 2 Axes>"
      ]
     },
     "metadata": {
      "needs_background": "light"
     },
     "output_type": "display_data"
    }
   ],
   "source": [
    "sns.heatmap(cm1,annot=True)\n",
    "plt.xlabel(\"Predicted\")\n",
    "plt.ylabel(\"Truth\")"
   ]
  },
  {
   "cell_type": "code",
   "execution_count": 28,
   "id": "c53fe962",
   "metadata": {},
   "outputs": [
    {
     "name": "stdout",
     "output_type": "stream",
     "text": [
      "              precision    recall  f1-score   support\n",
      "\n",
      "           0       1.00      1.00      1.00        21\n",
      "           1       1.00      1.00      1.00        41\n",
      "\n",
      "    accuracy                           1.00        62\n",
      "   macro avg       1.00      1.00      1.00        62\n",
      "weighted avg       1.00      1.00      1.00        62\n",
      "\n"
     ]
    }
   ],
   "source": [
    "print(classification_report(y_test,predict1))"
   ]
  },
  {
   "cell_type": "code",
   "execution_count": 29,
   "id": "dfcd254e",
   "metadata": {},
   "outputs": [],
   "source": [
    "accuracy_11 = round(accuracy_score(y_train,predict11),4)\n",
    "accuracy_1 = round(accuracy_score(y_test,predict1),4)\n",
    "precision_1 = round(precision_score(y_test,predict1,average = 'macro'),4)\n",
    "recall_1 = round(recall_score(y_test,predict1, average = 'macro'),4)\n",
    "f1_1 = round(f1_score(y_test,predict1, average = 'macro'),4)"
   ]
  },
  {
   "cell_type": "code",
   "execution_count": 30,
   "id": "8c36517f",
   "metadata": {},
   "outputs": [
    {
     "name": "stdout",
     "output_type": "stream",
     "text": [
      "Train Accuracy Score  :  1.0\n",
      "Test Accuracy Score  :  1.0\n",
      "Precision Score :  1.0\n",
      "Recall Score    :  1.0\n",
      "f1-Score        :  1.0\n"
     ]
    }
   ],
   "source": [
    "print('Train Accuracy Score  : ', accuracy_11)\n",
    "print('Test Accuracy Score  : ', accuracy_1)\n",
    "print('Precision Score : ', precision_1)\n",
    "print('Recall Score    : ', recall_1)\n",
    "print('f1-Score        : ', f1_1)"
   ]
  },
  {
   "cell_type": "markdown",
   "id": "8f946a3f",
   "metadata": {},
   "source": [
    "### Random Forest Classifier"
   ]
  },
  {
   "cell_type": "code",
   "execution_count": 40,
   "id": "f0ae3920",
   "metadata": {},
   "outputs": [],
   "source": [
    "rf = RandomForestClassifier()\n",
    "rf.fit(x_train,y_train)\n",
    "predict2=rf.predict(x_test)"
   ]
  },
  {
   "cell_type": "code",
   "execution_count": 41,
   "id": "fca89790",
   "metadata": {},
   "outputs": [
    {
     "data": {
      "text/plain": [
       "1.0"
      ]
     },
     "execution_count": 41,
     "metadata": {},
     "output_type": "execute_result"
    }
   ],
   "source": [
    "predict22= rf.predict(x_train)\n",
    "accuracy_22 = accuracy_score(y_train,predict22)\n",
    "accuracy_22       #accuracy of train data"
   ]
  },
  {
   "cell_type": "code",
   "execution_count": 42,
   "id": "1047f48b",
   "metadata": {},
   "outputs": [
    {
     "data": {
      "text/plain": [
       "0.9838709677419355"
      ]
     },
     "execution_count": 42,
     "metadata": {},
     "output_type": "execute_result"
    }
   ],
   "source": [
    "accuracy_2 = accuracy_score(y_test,predict2)\n",
    "accuracy_2          #accuracy of test data"
   ]
  },
  {
   "cell_type": "code",
   "execution_count": 43,
   "id": "df205df6",
   "metadata": {},
   "outputs": [
    {
     "data": {
      "text/plain": [
       "array([[21,  0],\n",
       "       [ 1, 40]], dtype=int64)"
      ]
     },
     "execution_count": 43,
     "metadata": {},
     "output_type": "execute_result"
    }
   ],
   "source": [
    "cm2 = confusion_matrix(y_test,predict2)\n",
    "cm2"
   ]
  },
  {
   "cell_type": "code",
   "execution_count": 44,
   "id": "ac0f5525",
   "metadata": {},
   "outputs": [
    {
     "data": {
      "text/plain": [
       "Text(33.0, 0.5, 'Truth')"
      ]
     },
     "execution_count": 44,
     "metadata": {},
     "output_type": "execute_result"
    },
    {
     "data": {
      "image/png": "[encoded data removed]",
      "text/plain": [
       "<Figure size 432x288 with 2 Axes>"
      ]
     },
     "metadata": {
      "needs_background": "light"
     },
     "output_type": "display_data"
    }
   ],
   "source": [
    "sns.heatmap(cm2,annot=True)\n",
    "plt.xlabel(\"Predicted\")\n",
    "plt.ylabel(\"Truth\")"
   ]
  },
  {
   "cell_type": "code",
   "execution_count": 45,
   "id": "d5ba6477",
   "metadata": {},
   "outputs": [
    {
     "name": "stdout",
     "output_type": "stream",
     "text": [
      "              precision    recall  f1-score   support\n",
      "\n",
      "           0       0.95      1.00      0.98        21\n",
      "           1       1.00      0.98      0.99        41\n",
      "\n",
      "    accuracy                           0.98        62\n",
      "   macro avg       0.98      0.99      0.98        62\n",
      "weighted avg       0.98      0.98      0.98        62\n",
      "\n"
     ]
    }
   ],
   "source": [
    "print(classification_report(y_test,predict2))"
   ]
  },
  {
   "cell_type": "code",
   "execution_count": 46,
   "id": "3736c2a0",
   "metadata": {},
   "outputs": [],
   "source": [
    "accuracy_22 = round(accuracy_score(y_train,predict22),4)\n",
    "accuracy_2 = round(accuracy_score(y_test,predict2),4)\n",
    "precision_2 = round(precision_score(y_test,predict2,average = 'macro'),4)\n",
    "recall_2 = round(recall_score(y_test,predict2, average = 'macro'),4)\n",
    "f1_2 = round(f1_score(y_test,predict2, average = 'macro'),4)"
   ]
  },
  {
   "cell_type": "code",
   "execution_count": 47,
   "id": "19cb2cf1",
   "metadata": {},
   "outputs": [
    {
     "name": "stdout",
     "output_type": "stream",
     "text": [
      "Train Accuracy Score  :  1.0\n",
      "Test Accuracy Score  :  0.9839\n",
      "Precision Score :  0.9773\n",
      "Recall Score    :  0.9878\n",
      "f1-Score        :  0.9822\n"
     ]
    }
   ],
   "source": [
    "print('Train Accuracy Score  : ', accuracy_22)\n",
    "print('Test Accuracy Score  : ', accuracy_2)\n",
    "print('Precision Score : ', precision_2)\n",
    "print('Recall Score    : ', recall_2)\n",
    "print('f1-Score        : ', f1_2)"
   ]
  },
  {
   "cell_type": "markdown",
   "id": "b903948d",
   "metadata": {},
   "source": [
    "### K Neighbour Classifier "
   ]
  },
  {
   "cell_type": "code",
   "execution_count": 49,
   "id": "cc9e2689",
   "metadata": {},
   "outputs": [],
   "source": [
    "kn = OneVsRestClassifier(KNeighborsClassifier())\n",
    "kn.fit(x_train, y_train)\n",
    "predict3 = kn.predict(x_test)"
   ]
  },
  {
   "cell_type": "code",
   "execution_count": 50,
   "id": "a1f34f03",
   "metadata": {},
   "outputs": [
    {
     "data": {
      "text/plain": [
       "1.0"
      ]
     },
     "execution_count": 50,
     "metadata": {},
     "output_type": "execute_result"
    }
   ],
   "source": [
    "predict33 = kn.predict(x_train)\n",
    "accuracy_33 = accuracy_score(y_train , predict33)\n",
    "accuracy_33              #accuracy of train data"
   ]
  },
  {
   "cell_type": "code",
   "execution_count": 51,
   "id": "4cc37356",
   "metadata": {},
   "outputs": [
    {
     "data": {
      "text/plain": [
       "0.9838709677419355"
      ]
     },
     "execution_count": 51,
     "metadata": {},
     "output_type": "execute_result"
    }
   ],
   "source": [
    "accuracy_3 = accuracy_score(y_test,predict3)\n",
    "accuracy_3         #accuracy of test data"
   ]
  },
  {
   "cell_type": "code",
   "execution_count": 52,
   "id": "d7f67359",
   "metadata": {},
   "outputs": [
    {
     "data": {
      "text/plain": [
       "array([[21,  0],\n",
       "       [ 1, 40]], dtype=int64)"
      ]
     },
     "execution_count": 52,
     "metadata": {},
     "output_type": "execute_result"
    }
   ],
   "source": [
    "cm3 = confusion_matrix(y_test,predict3)\n",
    "cm3"
   ]
  },
  {
   "cell_type": "code",
   "execution_count": 53,
   "id": "58513c1e",
   "metadata": {},
   "outputs": [
    {
     "data": {
      "text/plain": [
       "Text(33.0, 0.5, 'Truth')"
      ]
     },
     "execution_count": 53,
     "metadata": {},
     "output_type": "execute_result"
    },
    {
     "data": {
      "image/png": "[encoded data removed]",
      "text/plain": [
       "<Figure size 432x288 with 2 Axes>"
      ]
     },
     "metadata": {
      "needs_background": "light"
     },
     "output_type": "display_data"
    }
   ],
   "source": [
    "sns.heatmap(cm3,annot=True)\n",
    "plt.xlabel(\"Predicted\")\n",
    "plt.ylabel(\"Truth\")"
   ]
  },
  {
   "cell_type": "code",
   "execution_count": 54,
   "id": "bbae6eb5",
   "metadata": {},
   "outputs": [
    {
     "name": "stdout",
     "output_type": "stream",
     "text": [
      "              precision    recall  f1-score   support\n",
      "\n",
      "           0       0.95      1.00      0.98        21\n",
      "           1       1.00      0.98      0.99        41\n",
      "\n",
      "    accuracy                           0.98        62\n",
      "   macro avg       0.98      0.99      0.98        62\n",
      "weighted avg       0.98      0.98      0.98        62\n",
      "\n"
     ]
    }
   ],
   "source": [
    "print(classification_report(y_test,predict3))"
   ]
  },
  {
   "cell_type": "code",
   "execution_count": 55,
   "id": "2044d204",
   "metadata": {},
   "outputs": [],
   "source": [
    "accuracy_33 = round(accuracy_score(y_train,predict33),4)\n",
    "accuracy_3 = round(accuracy_score(y_test,predict3),4)\n",
    "precision_3 = round(precision_score(y_test,predict3,average = 'macro'),4)\n",
    "recall_3 = round(recall_score(y_test,predict3, average = 'macro'),4)\n",
    "f1_3 = round(f1_score(y_test,predict3, average = 'macro'),4)"
   ]
  },
  {
   "cell_type": "code",
   "execution_count": 56,
   "id": "3c60b19f",
   "metadata": {},
   "outputs": [
    {
     "name": "stdout",
     "output_type": "stream",
     "text": [
      "Train Accuracy Score  :  1.0\n",
      "Test Accuracy Score  :  0.9839\n",
      "Precision Score :  0.9773\n",
      "Recall Score    :  0.9878\n",
      "f1-Score        :  0.9822\n"
     ]
    }
   ],
   "source": [
    "print('Train Accuracy Score  : ', accuracy_33)\n",
    "print('Test Accuracy Score  : ', accuracy_3)\n",
    "print('Precision Score : ', precision_3)\n",
    "print('Recall Score    : ', recall_3)\n",
    "print('f1-Score        : ', f1_3)"
   ]
  },
  {
   "cell_type": "markdown",
   "id": "a8cda8e8",
   "metadata": {},
   "source": [
    "### Logistic Regression "
   ]
  },
  {
   "cell_type": "code",
   "execution_count": 57,
   "id": "ddf42c38",
   "metadata": {},
   "outputs": [],
   "source": [
    "lg = LogisticRegression()\n",
    "lg.fit(x_train,y_train)\n",
    "predict4=lg.predict(x_test)"
   ]
  },
  {
   "cell_type": "code",
   "execution_count": 58,
   "id": "f1cc0039",
   "metadata": {},
   "outputs": [
    {
     "data": {
      "text/plain": [
       "1.0"
      ]
     },
     "execution_count": 58,
     "metadata": {},
     "output_type": "execute_result"
    }
   ],
   "source": [
    "predict44= lg.predict(x_train)\n",
    "accuracy_44 = accuracy_score(y_train,predict44)\n",
    "accuracy_44     #accuracy of train data"
   ]
  },
  {
   "cell_type": "code",
   "execution_count": 59,
   "id": "4c156b5d",
   "metadata": {},
   "outputs": [
    {
     "data": {
      "text/plain": [
       "1.0"
      ]
     },
     "execution_count": 59,
     "metadata": {},
     "output_type": "execute_result"
    }
   ],
   "source": [
    "accuracy_4 = accuracy_score(y_test,predict4)\n",
    "accuracy_4 #accuracy of test data"
   ]
  },
  {
   "cell_type": "code",
   "execution_count": 60,
   "id": "73f6f065",
   "metadata": {},
   "outputs": [
    {
     "data": {
      "text/plain": [
       "array([[21,  0],\n",
       "       [ 0, 41]], dtype=int64)"
      ]
     },
     "execution_count": 60,
     "metadata": {},
     "output_type": "execute_result"
    }
   ],
   "source": [
    "cm4=confusion_matrix(y_test,predict4)\n",
    "cm4"
   ]
  },
  {
   "cell_type": "code",
   "execution_count": 61,
   "id": "b1c2706e",
   "metadata": {},
   "outputs": [
    {
     "data": {
      "text/plain": [
       "Text(33.0, 0.5, 'Truth')"
      ]
     },
     "execution_count": 61,
     "metadata": {},
     "output_type": "execute_result"
    },
    {
     "data": {
      "image/png": "[encoded data removed]",
      "text/plain": [
       "<Figure size 432x288 with 2 Axes>"
      ]
     },
     "metadata": {
      "needs_background": "light"
     },
     "output_type": "display_data"
    }
   ],
   "source": [
    "sns.heatmap(cm4,annot=True)\n",
    "plt.xlabel(\"Predicted\")\n",
    "plt.ylabel(\"Truth\")"
   ]
  },
  {
   "cell_type": "code",
   "execution_count": 62,
   "id": "446a850c",
   "metadata": {},
   "outputs": [
    {
     "name": "stdout",
     "output_type": "stream",
     "text": [
      "              precision    recall  f1-score   support\n",
      "\n",
      "           0       1.00      1.00      1.00        21\n",
      "           1       1.00      1.00      1.00        41\n",
      "\n",
      "    accuracy                           1.00        62\n",
      "   macro avg       1.00      1.00      1.00        62\n",
      "weighted avg       1.00      1.00      1.00        62\n",
      "\n"
     ]
    }
   ],
   "source": [
    "print(classification_report(y_test,predict4))"
   ]
  },
  {
   "cell_type": "code",
   "execution_count": 63,
   "id": "c3071689",
   "metadata": {},
   "outputs": [],
   "source": [
    "accuracy_44 = round( accuracy_score(y_train,predict44),4)\n",
    "accuracy_4 = round(accuracy_score(y_test,predict4),4)\n",
    "precision_4 = round(precision_score(y_test,predict4,average = 'macro'),4)\n",
    "recall_4 = round(recall_score(y_test,predict4, average = 'macro'),4)\n",
    "f1_4 = round(f1_score(y_test,predict4, average = 'macro'),4)"
   ]
  },
  {
   "cell_type": "code",
   "execution_count": 64,
   "id": "fa7867d4",
   "metadata": {},
   "outputs": [
    {
     "name": "stdout",
     "output_type": "stream",
     "text": [
      "Train Accuracy Score  :  1.0\n",
      "Test Accuracy Score  :  1.0\n",
      "Precision Score :  1.0\n",
      "Recall Score    :  1.0\n",
      "f1-Score        :  1.0\n"
     ]
    }
   ],
   "source": [
    "print('Train Accuracy Score  : ', accuracy_44)\n",
    "print('Test Accuracy Score  : ', accuracy_4)\n",
    "print('Precision Score : ', precision_4)\n",
    "print('Recall Score    : ', recall_4)\n",
    "print('f1-Score        : ', f1_4)"
   ]
  },
  {
   "cell_type": "markdown",
   "id": "fe0ffc77",
   "metadata": {},
   "source": [
    "### Decision Tree Classifier "
   ]
  },
  {
   "cell_type": "code",
   "execution_count": 65,
   "id": "17f1da2d",
   "metadata": {},
   "outputs": [],
   "source": [
    "dt = DecisionTreeClassifier(max_depth=3)\n",
    "dt.fit(x_train,y_train)\n",
    "predict5=dt.predict(x_test)"
   ]
  },
  {
   "cell_type": "code",
   "execution_count": 66,
   "id": "07878886",
   "metadata": {},
   "outputs": [
    {
     "data": {
      "text/plain": [
       "1.0"
      ]
     },
     "execution_count": 66,
     "metadata": {},
     "output_type": "execute_result"
    }
   ],
   "source": [
    "predict55= dt.predict(x_train)\n",
    "accuracy_55 = accuracy_score(y_train,predict55)\n",
    "accuracy_55     #accuracy of train data"
   ]
  },
  {
   "cell_type": "code",
   "execution_count": 67,
   "id": "bd841756",
   "metadata": {},
   "outputs": [
    {
     "data": {
      "text/plain": [
       "0.9838709677419355"
      ]
     },
     "execution_count": 67,
     "metadata": {},
     "output_type": "execute_result"
    }
   ],
   "source": [
    "accuracy_5 = accuracy_score(y_test,predict5)\n",
    "accuracy_5 #accuracy of test data"
   ]
  },
  {
   "cell_type": "code",
   "execution_count": 68,
   "id": "c6a5dbae",
   "metadata": {},
   "outputs": [
    {
     "data": {
      "text/plain": [
       "array([[21,  0],\n",
       "       [ 1, 40]], dtype=int64)"
      ]
     },
     "execution_count": 68,
     "metadata": {},
     "output_type": "execute_result"
    }
   ],
   "source": [
    "cm5=confusion_matrix(y_test,predict5)\n",
    "cm5"
   ]
  },
  {
   "cell_type": "code",
   "execution_count": 69,
   "id": "6eed69f5",
   "metadata": {},
   "outputs": [
    {
     "data": {
      "text/plain": [
       "Text(33.0, 0.5, 'Truth')"
      ]
     },
     "execution_count": 69,
     "metadata": {},
     "output_type": "execute_result"
    },
    {
     "data": {
      "image/png": "[encoded data removed]",
      "text/plain": [
       "<Figure size 432x288 with 2 Axes>"
      ]
     },
     "metadata": {
      "needs_background": "light"
     },
     "output_type": "display_data"
    }
   ],
   "source": [
    "sns.heatmap(cm5,annot=True)\n",
    "plt.xlabel(\"Predicted\")\n",
    "plt.ylabel(\"Truth\")"
   ]
  },
  {
   "cell_type": "code",
   "execution_count": 70,
   "id": "d8acacac",
   "metadata": {},
   "outputs": [
    {
     "name": "stdout",
     "output_type": "stream",
     "text": [
      "              precision    recall  f1-score   support\n",
      "\n",
      "           0       0.95      1.00      0.98        21\n",
      "           1       1.00      0.98      0.99        41\n",
      "\n",
      "    accuracy                           0.98        62\n",
      "   macro avg       0.98      0.99      0.98        62\n",
      "weighted avg       0.98      0.98      0.98        62\n",
      "\n"
     ]
    }
   ],
   "source": [
    "print(classification_report(y_test,predict5))"
   ]
  },
  {
   "cell_type": "code",
   "execution_count": 71,
   "id": "5fcfbabf",
   "metadata": {},
   "outputs": [],
   "source": [
    "accuracy_55 = round( accuracy_score(y_train,predict55),4)\n",
    "accuracy_5 = round(accuracy_score(y_test,predict5),4)\n",
    "precision_5 = round(precision_score(y_test,predict5,average = 'macro'),4)\n",
    "recall_5 = round(recall_score(y_test,predict5, average = 'macro'),4)\n",
    "f1_5 = round(f1_score(y_test,predict5, average = 'macro'),4)"
   ]
  },
  {
   "cell_type": "code",
   "execution_count": 72,
   "id": "58a68b9e",
   "metadata": {},
   "outputs": [
    {
     "name": "stdout",
     "output_type": "stream",
     "text": [
      "Train Accuracy Score  :  1.0\n",
      "Test Accuracy Score  :  0.9839\n",
      "Precision Score :  0.9773\n",
      "Recall Score    :  0.9878\n",
      "f1-Score        :  0.9822\n"
     ]
    }
   ],
   "source": [
    "print('Train Accuracy Score  : ', accuracy_55)\n",
    "print('Test Accuracy Score  : ', accuracy_5)\n",
    "print('Precision Score : ', precision_5)\n",
    "print('Recall Score    : ', recall_5)\n",
    "print('f1-Score        : ', f1_5)"
   ]
  },
  {
   "cell_type": "markdown",
   "id": "3a86f7b7",
   "metadata": {},
   "source": [
    "### AdaBoost Classifier"
   ]
  },
  {
   "cell_type": "code",
   "execution_count": 76,
   "id": "df3ffccd",
   "metadata": {},
   "outputs": [],
   "source": [
    "ab = AdaBoostClassifier()\n",
    "ab.fit(x_train,y_train)\n",
    "predict6=ab.predict(x_test)"
   ]
  },
  {
   "cell_type": "code",
   "execution_count": 77,
   "id": "6a5381bd",
   "metadata": {},
   "outputs": [
    {
     "data": {
      "text/plain": [
       "1.0"
      ]
     },
     "execution_count": 77,
     "metadata": {},
     "output_type": "execute_result"
    }
   ],
   "source": [
    "predict66= ab.predict(x_train)\n",
    "accuracy_66 = accuracy_score(y_train,predict66)\n",
    "accuracy_66    #accuracy of train data"
   ]
  },
  {
   "cell_type": "code",
   "execution_count": 78,
   "id": "6ed002a3",
   "metadata": {},
   "outputs": [
    {
     "data": {
      "text/plain": [
       "1.0"
      ]
     },
     "execution_count": 78,
     "metadata": {},
     "output_type": "execute_result"
    }
   ],
   "source": [
    "accuracy_6 = accuracy_score(y_test,predict6)\n",
    "accuracy_6 #accuracy of test data"
   ]
  },
  {
   "cell_type": "code",
   "execution_count": 79,
   "id": "1e302b6e",
   "metadata": {},
   "outputs": [
    {
     "data": {
      "text/plain": [
       "array([[21,  0],\n",
       "       [ 0, 41]], dtype=int64)"
      ]
     },
     "execution_count": 79,
     "metadata": {},
     "output_type": "execute_result"
    }
   ],
   "source": [
    "cm6 = confusion_matrix(y_test,predict6)\n",
    "cm6"
   ]
  },
  {
   "cell_type": "code",
   "execution_count": 80,
   "id": "b9b4576e",
   "metadata": {},
   "outputs": [
    {
     "data": {
      "text/plain": [
       "Text(33.0, 0.5, 'Truth')"
      ]
     },
     "execution_count": 80,
     "metadata": {},
     "output_type": "execute_result"
    },
    {
     "data": {
      "image/png": "[encoded data removed]",
      "text/plain": [
       "<Figure size 432x288 with 2 Axes>"
      ]
     },
     "metadata": {
      "needs_background": "light"
     },
     "output_type": "display_data"
    }
   ],
   "source": [
    "sns.heatmap(cm6,annot=True)\n",
    "plt.xlabel(\"Predicted\")\n",
    "plt.ylabel(\"Truth\")"
   ]
  },
  {
   "cell_type": "code",
   "execution_count": 81,
   "id": "a64916fa",
   "metadata": {},
   "outputs": [
    {
     "name": "stdout",
     "output_type": "stream",
     "text": [
      "              precision    recall  f1-score   support\n",
      "\n",
      "           0       1.00      1.00      1.00        21\n",
      "           1       1.00      1.00      1.00        41\n",
      "\n",
      "    accuracy                           1.00        62\n",
      "   macro avg       1.00      1.00      1.00        62\n",
      "weighted avg       1.00      1.00      1.00        62\n",
      "\n"
     ]
    }
   ],
   "source": [
    "print(classification_report(y_test,predict6))"
   ]
  },
  {
   "cell_type": "code",
   "execution_count": 82,
   "id": "1ecb36b3",
   "metadata": {},
   "outputs": [],
   "source": [
    "accuracy_66 = round(accuracy_score(y_train,predict66),4)\n",
    "accuracy_6 = round(accuracy_score(y_test,predict6),4)\n",
    "precision_6 = round(precision_score(y_test,predict6,average = 'macro'),4)\n",
    "recall_6 = round(recall_score(y_test,predict6, average = 'macro'),4)\n",
    "f1_6 = round(f1_score(y_test,predict6, average = 'macro'),4)"
   ]
  },
  {
   "cell_type": "code",
   "execution_count": 83,
   "id": "240fe999",
   "metadata": {},
   "outputs": [
    {
     "name": "stdout",
     "output_type": "stream",
     "text": [
      "Train Accuracy Score  :  1.0\n",
      "Test Accuracy Score  :  1.0\n",
      "Precision Score :  1.0\n",
      "Recall Score    :  1.0\n",
      "f1-Score        :  1.0\n"
     ]
    }
   ],
   "source": [
    "print('Train Accuracy Score  : ', accuracy_66)\n",
    "print('Test Accuracy Score  : ', accuracy_6)\n",
    "print('Precision Score : ', precision_6)\n",
    "print('Recall Score    : ', recall_6)\n",
    "print('f1-Score        : ', f1_6)"
   ]
  },
  {
   "cell_type": "markdown",
   "id": "60de3fc4",
   "metadata": {},
   "source": [
    "### GradientBoosting Classifier "
   ]
  },
  {
   "cell_type": "code",
   "execution_count": 84,
   "id": "aecb5801",
   "metadata": {},
   "outputs": [],
   "source": [
    "gd = GradientBoostingClassifier()\n",
    "gd.fit(x_train,y_train)\n",
    "predict7 = gd.predict(x_test)"
   ]
  },
  {
   "cell_type": "code",
   "execution_count": 85,
   "id": "b0b22063",
   "metadata": {},
   "outputs": [
    {
     "data": {
      "text/plain": [
       "1.0"
      ]
     },
     "execution_count": 85,
     "metadata": {},
     "output_type": "execute_result"
    }
   ],
   "source": [
    "predict77= gd.predict(x_train)\n",
    "accuracy_77 = accuracy_score(y_train,predict77)\n",
    "accuracy_77   #accuracy of train data"
   ]
  },
  {
   "cell_type": "code",
   "execution_count": 86,
   "id": "e91b46ef",
   "metadata": {},
   "outputs": [
    {
     "data": {
      "text/plain": [
       "0.9838709677419355"
      ]
     },
     "execution_count": 86,
     "metadata": {},
     "output_type": "execute_result"
    }
   ],
   "source": [
    "accuracy_7 = accuracy_score(y_test,predict7)\n",
    "accuracy_7 #accuracy of test data"
   ]
  },
  {
   "cell_type": "code",
   "execution_count": 87,
   "id": "9bd3c983",
   "metadata": {},
   "outputs": [
    {
     "data": {
      "text/plain": [
       "array([[21,  0],\n",
       "       [ 1, 40]], dtype=int64)"
      ]
     },
     "execution_count": 87,
     "metadata": {},
     "output_type": "execute_result"
    }
   ],
   "source": [
    "cm7 = confusion_matrix(y_test,predict7)\n",
    "cm7"
   ]
  },
  {
   "cell_type": "code",
   "execution_count": 88,
   "id": "f6b73726",
   "metadata": {},
   "outputs": [
    {
     "data": {
      "text/plain": [
       "Text(33.0, 0.5, 'Truth')"
      ]
     },
     "execution_count": 88,
     "metadata": {},
     "output_type": "execute_result"
    },
    {
     "data": {
      "image/png": "[encoded data removed]",
      "text/plain": [
       "<Figure size 432x288 with 2 Axes>"
      ]
     },
     "metadata": {
      "needs_background": "light"
     },
     "output_type": "display_data"
    }
   ],
   "source": [
    "sns.heatmap(cm7,annot=True)\n",
    "plt.xlabel(\"Predicted\")\n",
    "plt.ylabel(\"Truth\")"
   ]
  },
  {
   "cell_type": "code",
   "execution_count": 89,
   "id": "4c61998f",
   "metadata": {},
   "outputs": [
    {
     "name": "stdout",
     "output_type": "stream",
     "text": [
      "              precision    recall  f1-score   support\n",
      "\n",
      "           0       0.95      1.00      0.98        21\n",
      "           1       1.00      0.98      0.99        41\n",
      "\n",
      "    accuracy                           0.98        62\n",
      "   macro avg       0.98      0.99      0.98        62\n",
      "weighted avg       0.98      0.98      0.98        62\n",
      "\n"
     ]
    }
   ],
   "source": [
    "print(classification_report(y_test,predict7))"
   ]
  },
  {
   "cell_type": "code",
   "execution_count": 90,
   "id": "4bcbbf45",
   "metadata": {},
   "outputs": [],
   "source": [
    "accuracy_77 = round(accuracy_score(y_train,predict77),4)\n",
    "accuracy_7 = round(accuracy_score(y_test,predict7),4)\n",
    "precision_7 = round(precision_score(y_test,predict7,average = 'macro'),4)\n",
    "recall_7 = round(recall_score(y_test,predict7, average = 'macro'),4)\n",
    "f1_7 = round(f1_score(y_test,predict7, average = 'macro'),4)"
   ]
  },
  {
   "cell_type": "code",
   "execution_count": 91,
   "id": "a9968e1c",
   "metadata": {},
   "outputs": [
    {
     "name": "stdout",
     "output_type": "stream",
     "text": [
      "Train Accuracy Score  :  1.0\n",
      "Test Accuracy Score  :  0.9839\n",
      "Precision Score :  0.9773\n",
      "Recall Score    :  0.9878\n",
      "f1-Score        :  0.9822\n"
     ]
    }
   ],
   "source": [
    "print('Train Accuracy Score  : ', accuracy_77)\n",
    "print('Test Accuracy Score  : ', accuracy_7)\n",
    "print('Precision Score : ', precision_7)\n",
    "print('Recall Score    : ', recall_7)\n",
    "print('f1-Score        : ', f1_7)"
   ]
  },
  {
   "cell_type": "markdown",
   "id": "2349e611",
   "metadata": {},
   "source": [
    "### XGBoost Classifier "
   ]
  },
  {
   "cell_type": "code",
   "execution_count": 97,
   "id": "91e1ffda",
   "metadata": {},
   "outputs": [],
   "source": [
    "xg = XGBClassifier()\n",
    "xg.fit(x_train,y_train)\n",
    "predict8 = xg.predict(x_test)"
   ]
  },
  {
   "cell_type": "code",
   "execution_count": 98,
   "id": "8dae5ca7",
   "metadata": {},
   "outputs": [
    {
     "data": {
      "text/plain": [
       "1.0"
      ]
     },
     "execution_count": 98,
     "metadata": {},
     "output_type": "execute_result"
    }
   ],
   "source": [
    "predict88= xg.predict(x_train)\n",
    "accuracy_88 = accuracy_score(y_train,predict88)\n",
    "accuracy_88   #accuracy of train data"
   ]
  },
  {
   "cell_type": "code",
   "execution_count": 99,
   "id": "b1de1077",
   "metadata": {},
   "outputs": [
    {
     "data": {
      "text/plain": [
       "1.0"
      ]
     },
     "execution_count": 99,
     "metadata": {},
     "output_type": "execute_result"
    }
   ],
   "source": [
    "accuracy_8 = accuracy_score(y_test,predict8)\n",
    "accuracy_8#accuracy of test data"
   ]
  },
  {
   "cell_type": "code",
   "execution_count": 100,
   "id": "827b376a",
   "metadata": {},
   "outputs": [
    {
     "data": {
      "text/plain": [
       "array([[21,  0],\n",
       "       [ 0, 41]], dtype=int64)"
      ]
     },
     "execution_count": 100,
     "metadata": {},
     "output_type": "execute_result"
    }
   ],
   "source": [
    "cm8 = confusion_matrix(y_test,predict8)\n",
    "cm8"
   ]
  },
  {
   "cell_type": "code",
   "execution_count": 101,
   "id": "36ccb87a",
   "metadata": {},
   "outputs": [
    {
     "data": {
      "text/plain": [
       "Text(33.0, 0.5, 'Truth')"
      ]
     },
     "execution_count": 101,
     "metadata": {},
     "output_type": "execute_result"
    },
    {
     "data": {
      "image/png": "[encoded data removed]",
      "text/plain": [
       "<Figure size 432x288 with 2 Axes>"
      ]
     },
     "metadata": {
      "needs_background": "light"
     },
     "output_type": "display_data"
    }
   ],
   "source": [
    "sns.heatmap(cm8,annot=True)\n",
    "plt.xlabel(\"Predicted\")\n",
    "plt.ylabel(\"Truth\")"
   ]
  },
  {
   "cell_type": "code",
   "execution_count": 102,
   "id": "f9e04cd8",
   "metadata": {},
   "outputs": [
    {
     "name": "stdout",
     "output_type": "stream",
     "text": [
      "              precision    recall  f1-score   support\n",
      "\n",
      "           0       1.00      1.00      1.00        21\n",
      "           1       1.00      1.00      1.00        41\n",
      "\n",
      "    accuracy                           1.00        62\n",
      "   macro avg       1.00      1.00      1.00        62\n",
      "weighted avg       1.00      1.00      1.00        62\n",
      "\n"
     ]
    }
   ],
   "source": [
    "print(classification_report(y_test,predict8))"
   ]
  },
  {
   "cell_type": "code",
   "execution_count": 103,
   "id": "2458c7d1",
   "metadata": {},
   "outputs": [],
   "source": [
    "accuracy_88 = round(accuracy_score(y_train,predict88),4)\n",
    "accuracy_8 = round(accuracy_score(y_test,predict8),4)\n",
    "precision_8 = round(precision_score(y_test,predict8,average = 'macro'),4)\n",
    "recall_8 = round(recall_score(y_test,predict8, average = 'macro'),4)\n",
    "f1_8 = round(f1_score(y_test,predict8, average = 'macro'),4)"
   ]
  },
  {
   "cell_type": "code",
   "execution_count": 104,
   "id": "65e6ba82",
   "metadata": {},
   "outputs": [
    {
     "name": "stdout",
     "output_type": "stream",
     "text": [
      "Train Accuracy Score  :  1.0\n",
      "Test Accuracy Score  :  1.0\n",
      "Precision Score :  1.0\n",
      "Recall Score    :  1.0\n",
      "f1-Score        :  1.0\n"
     ]
    }
   ],
   "source": [
    "print('Train Accuracy Score  : ', accuracy_88)\n",
    "print('Test Accuracy Score  : ', accuracy_8)\n",
    "print('Precision Score : ', precision_8)\n",
    "print('Recall Score    : ', recall_8)\n",
    "print('f1-Score        : ', f1_8)"
   ]
  },
  {
   "cell_type": "markdown",
   "id": "777e2730",
   "metadata": {},
   "source": [
    "### LGBM Boosting Classifier "
   ]
  },
  {
   "cell_type": "code",
   "execution_count": 105,
   "id": "30f23b77",
   "metadata": {},
   "outputs": [],
   "source": [
    "lgbm = LGBMClassifier()\n",
    "lgbm.fit(x_train,y_train)\n",
    "predict9 = lgbm.predict(x_test)"
   ]
  },
  {
   "cell_type": "code",
   "execution_count": 106,
   "id": "41a3991f",
   "metadata": {},
   "outputs": [
    {
     "data": {
      "text/plain": [
       "1.0"
      ]
     },
     "execution_count": 106,
     "metadata": {},
     "output_type": "execute_result"
    }
   ],
   "source": [
    "predict99= lgbm.predict(x_train)\n",
    "accuracy_99 = accuracy_score(y_train,predict99)\n",
    "accuracy_99   #accuracy of train data"
   ]
  },
  {
   "cell_type": "code",
   "execution_count": 107,
   "id": "8f76dde5",
   "metadata": {},
   "outputs": [
    {
     "data": {
      "text/plain": [
       "0.9838709677419355"
      ]
     },
     "execution_count": 107,
     "metadata": {},
     "output_type": "execute_result"
    }
   ],
   "source": [
    "accuracy_9 = accuracy_score(y_test,predict9)\n",
    "accuracy_9 #accuracy of test data"
   ]
  },
  {
   "cell_type": "code",
   "execution_count": 108,
   "id": "28c3e3c2",
   "metadata": {},
   "outputs": [
    {
     "data": {
      "text/plain": [
       "array([[21,  0],\n",
       "       [ 1, 40]], dtype=int64)"
      ]
     },
     "execution_count": 108,
     "metadata": {},
     "output_type": "execute_result"
    }
   ],
   "source": [
    "cm9 = confusion_matrix(y_test,predict9)\n",
    "cm9"
   ]
  },
  {
   "cell_type": "code",
   "execution_count": 109,
   "id": "3a5d00f0",
   "metadata": {},
   "outputs": [
    {
     "data": {
      "text/plain": [
       "Text(33.0, 0.5, 'Truth')"
      ]
     },
     "execution_count": 109,
     "metadata": {},
     "output_type": "execute_result"
    },
    {
     "data": {
      "image/png": "[encoded data removed]",
      "text/plain": [
       "<Figure size 432x288 with 2 Axes>"
      ]
     },
     "metadata": {
      "needs_background": "light"
     },
     "output_type": "display_data"
    }
   ],
   "source": [
    "sns.heatmap(cm9,annot=True)\n",
    "plt.xlabel(\"Predicted\")\n",
    "plt.ylabel(\"Truth\")"
   ]
  },
  {
   "cell_type": "code",
   "execution_count": 110,
   "id": "79f40f75",
   "metadata": {},
   "outputs": [
    {
     "name": "stdout",
     "output_type": "stream",
     "text": [
      "              precision    recall  f1-score   support\n",
      "\n",
      "           0       0.95      1.00      0.98        21\n",
      "           1       1.00      0.98      0.99        41\n",
      "\n",
      "    accuracy                           0.98        62\n",
      "   macro avg       0.98      0.99      0.98        62\n",
      "weighted avg       0.98      0.98      0.98        62\n",
      "\n"
     ]
    }
   ],
   "source": [
    "print(classification_report(y_test,predict9))"
   ]
  },
  {
   "cell_type": "code",
   "execution_count": 111,
   "id": "11a3ac71",
   "metadata": {},
   "outputs": [],
   "source": [
    "accuracy_99 = round(accuracy_score(y_train,predict99),4)\n",
    "accuracy_9 = round(accuracy_score(y_test,predict9),4)\n",
    "precision_9 = round(precision_score(y_test,predict9,average = 'macro'),4)\n",
    "recall_9 = round(recall_score(y_test,predict9, average = 'macro'),4)\n",
    "f1_9 = round(f1_score(y_test,predict9, average = 'macro'),4)"
   ]
  },
  {
   "cell_type": "code",
   "execution_count": 112,
   "id": "a670258a",
   "metadata": {},
   "outputs": [
    {
     "name": "stdout",
     "output_type": "stream",
     "text": [
      "Train Accuracy Score  :  1.0\n",
      "Test Accuracy Score  :  0.9839\n",
      "Precision Score :  0.9773\n",
      "Recall Score    :  0.9878\n",
      "f1-Score        :  0.9822\n"
     ]
    }
   ],
   "source": [
    "print('Train Accuracy Score  : ', accuracy_99)\n",
    "print('Test Accuracy Score  : ', accuracy_9)\n",
    "print('Precision Score : ', precision_9)\n",
    "print('Recall Score    : ', recall_9)\n",
    "print('f1-Score        : ', f1_9)"
   ]
  },
  {
   "cell_type": "markdown",
   "id": "8540f41e",
   "metadata": {},
   "source": [
    "### Comparing Accuracy By Different Models "
   ]
  },
  {
   "cell_type": "code",
   "execution_count": 113,
   "id": "2b6895a5",
   "metadata": {},
   "outputs": [
    {
     "data": {
      "text/html": [
       "<div>\n",
       "<style scoped>\n",
       "    .dataframe tbody tr th:only-of-type {\n",
       "        vertical-align: middle;\n",
       "    }\n",
       "\n",
       "    .dataframe tbody tr th {\n",
       "        vertical-align: top;\n",
       "    }\n",
       "\n",
       "    .dataframe thead th {\n",
       "        text-align: right;\n",
       "    }\n",
       "</style>\n",
       "<table border=\"1\" class=\"dataframe\">\n",
       "  <thead>\n",
       "    <tr style=\"text-align: right;\">\n",
       "      <th></th>\n",
       "      <th>Classifier</th>\n",
       "      <th>Train Accuracy</th>\n",
       "      <th>Test Accuracy</th>\n",
       "      <th>Precision Score</th>\n",
       "      <th>Recall Score</th>\n",
       "      <th>F1_Score</th>\n",
       "    </tr>\n",
       "  </thead>\n",
       "  <tbody>\n",
       "    <tr>\n",
       "      <th>0</th>\n",
       "      <td>Random Forest Classifier</td>\n",
       "      <td>1.0</td>\n",
       "      <td>0.9839</td>\n",
       "      <td>0.9773</td>\n",
       "      <td>0.9878</td>\n",
       "      <td>0.9822</td>\n",
       "    </tr>\n",
       "    <tr>\n",
       "      <th>1</th>\n",
       "      <td>K Neighbour Classifier</td>\n",
       "      <td>1.0</td>\n",
       "      <td>0.9839</td>\n",
       "      <td>0.9773</td>\n",
       "      <td>0.9878</td>\n",
       "      <td>0.9822</td>\n",
       "    </tr>\n",
       "    <tr>\n",
       "      <th>2</th>\n",
       "      <td>Dicision Tree Classifier</td>\n",
       "      <td>1.0</td>\n",
       "      <td>0.9839</td>\n",
       "      <td>0.9773</td>\n",
       "      <td>0.9878</td>\n",
       "      <td>0.9822</td>\n",
       "    </tr>\n",
       "    <tr>\n",
       "      <th>3</th>\n",
       "      <td>Gradient Boosting Classifier</td>\n",
       "      <td>1.0</td>\n",
       "      <td>0.9839</td>\n",
       "      <td>0.9773</td>\n",
       "      <td>0.9878</td>\n",
       "      <td>0.9822</td>\n",
       "    </tr>\n",
       "    <tr>\n",
       "      <th>4</th>\n",
       "      <td>Light Gradient Boosting Classifier</td>\n",
       "      <td>1.0</td>\n",
       "      <td>0.9839</td>\n",
       "      <td>0.9773</td>\n",
       "      <td>0.9878</td>\n",
       "      <td>0.9822</td>\n",
       "    </tr>\n",
       "    <tr>\n",
       "      <th>5</th>\n",
       "      <td>SVM Classifier</td>\n",
       "      <td>1.0</td>\n",
       "      <td>1.0000</td>\n",
       "      <td>1.0000</td>\n",
       "      <td>1.0000</td>\n",
       "      <td>1.0000</td>\n",
       "    </tr>\n",
       "    <tr>\n",
       "      <th>6</th>\n",
       "      <td>Logistic Regression Model</td>\n",
       "      <td>1.0</td>\n",
       "      <td>1.0000</td>\n",
       "      <td>1.0000</td>\n",
       "      <td>1.0000</td>\n",
       "      <td>1.0000</td>\n",
       "    </tr>\n",
       "    <tr>\n",
       "      <th>7</th>\n",
       "      <td>AdaBoost Classifier</td>\n",
       "      <td>1.0</td>\n",
       "      <td>1.0000</td>\n",
       "      <td>1.0000</td>\n",
       "      <td>1.0000</td>\n",
       "      <td>1.0000</td>\n",
       "    </tr>\n",
       "    <tr>\n",
       "      <th>8</th>\n",
       "      <td>Xtreme Gradient Boosting Classifier</td>\n",
       "      <td>1.0</td>\n",
       "      <td>1.0000</td>\n",
       "      <td>1.0000</td>\n",
       "      <td>1.0000</td>\n",
       "      <td>1.0000</td>\n",
       "    </tr>\n",
       "  </tbody>\n",
       "</table>\n",
       "</div>"
      ],
      "text/plain": [
       "                            Classifier  Train Accuracy  Test Accuracy  \\\n",
       "0             Random Forest Classifier             1.0         0.9839   \n",
       "1               K Neighbour Classifier             1.0         0.9839   \n",
       "2             Dicision Tree Classifier             1.0         0.9839   \n",
       "3         Gradient Boosting Classifier             1.0         0.9839   \n",
       "4   Light Gradient Boosting Classifier             1.0         0.9839   \n",
       "5                       SVM Classifier             1.0         1.0000   \n",
       "6            Logistic Regression Model             1.0         1.0000   \n",
       "7                  AdaBoost Classifier             1.0         1.0000   \n",
       "8  Xtreme Gradient Boosting Classifier             1.0         1.0000   \n",
       "\n",
       "   Precision Score  Recall Score  F1_Score  \n",
       "0           0.9773        0.9878    0.9822  \n",
       "1           0.9773        0.9878    0.9822  \n",
       "2           0.9773        0.9878    0.9822  \n",
       "3           0.9773        0.9878    0.9822  \n",
       "4           0.9773        0.9878    0.9822  \n",
       "5           1.0000        1.0000    1.0000  \n",
       "6           1.0000        1.0000    1.0000  \n",
       "7           1.0000        1.0000    1.0000  \n",
       "8           1.0000        1.0000    1.0000  "
      ]
     },
     "execution_count": 113,
     "metadata": {},
     "output_type": "execute_result"
    }
   ],
   "source": [
    "table = {'Classifier' : ['SVM Classifier','Random Forest Classifier','K Neighbour Classifier' ,'Logistic Regression Model',\n",
    "                         'Dicision Tree Classifier','AdaBoost Classifier', 'Gradient Boosting Classifier',\n",
    "                         'Xtreme Gradient Boosting Classifier', 'Light Gradient Boosting Classifier'],\n",
    "         'Train Accuracy' : [accuracy_11, accuracy_22, accuracy_33, accuracy_44, accuracy_55, accuracy_66,\n",
    "                             accuracy_77, accuracy_88, accuracy_99],\n",
    "         'Test Accuracy' : [accuracy_1, accuracy_2, accuracy_3, accuracy_4, accuracy_5, accuracy_6,\n",
    "                            accuracy_7, accuracy_8, accuracy_9],\n",
    "         'Precision Score' : [precision_1, precision_2,precision_3, precision_4, precision_5, precision_6,\n",
    "                              precision_7, precision_8, precision_9],\n",
    "         'Recall Score' : [recall_1, recall_2,recall_3, recall_4, recall_5, recall_6, recall_7, recall_8, recall_9],\n",
    "         'F1_Score' : [f1_1, f1_2, f1_3, f1_4, f1_5, f1_6, f1_7, f1_8, f1_9,]}\n",
    "table = pd.DataFrame(table)\n",
    "table.sort_values([\"Test Accuracy\"],inplace = True, ignore_index=True)\n",
    "table"
   ]
  },
  {
   "cell_type": "code",
   "execution_count": null,
   "id": "00f92658",
   "metadata": {},
   "outputs": [],
   "source": []
  },
  {
   "cell_type": "markdown",
   "id": "87c2fc80",
   "metadata": {},
   "source": [
    "# Pickle\n",
    "\n",
    "Saving the Trained Model"
   ]
  },
  {
   "cell_type": "code",
   "execution_count": 114,
   "id": "20bd1509",
   "metadata": {},
   "outputs": [],
   "source": [
    "import pickle"
   ]
  },
  {
   "cell_type": "code",
   "execution_count": 115,
   "id": "d6e10701",
   "metadata": {},
   "outputs": [],
   "source": [
    "filename = 'Bankruptcy.pkl'\n",
    "pickle.dump(sv, open(filename, 'wb'))  # sv is Support Vector Machine Classifier"
   ]
  },
  {
   "cell_type": "code",
   "execution_count": 116,
   "id": "990aa05a",
   "metadata": {},
   "outputs": [],
   "source": [
    "# Loading the Save Model\n",
    "\n",
    "loaded_model = pickle.load(open('Bankruptcy.pkl','rb'))"
   ]
  },
  {
   "cell_type": "code",
   "execution_count": 117,
   "id": "bc453e54",
   "metadata": {},
   "outputs": [
    {
     "data": {
      "text/html": [
       "<style>#sk-container-id-2 {color: black;background-color: white;}#sk-container-id-2 pre{padding: 0;}#sk-container-id-2 div.sk-toggleable {background-color: white;}#sk-container-id-2 label.sk-toggleable__label {cursor: pointer;display: block;width: 100%;margin-bottom: 0;padding: 0.3em;box-sizing: border-box;text-align: center;}#sk-container-id-2 label.sk-toggleable__label-arrow:before {content: \"▸\";float: left;margin-right: 0.25em;color: #696969;}#sk-container-id-2 label.sk-toggleable__label-arrow:hover:before {color: black;}#sk-container-id-2 div.sk-estimator:hover label.sk-toggleable__label-arrow:before {color: black;}#sk-container-id-2 div.sk-toggleable__content {max-height: 0;max-width: 0;overflow: hidden;text-align: left;background-color: #f0f8ff;}#sk-container-id-2 div.sk-toggleable__content pre {margin: 0.2em;color: black;border-radius: 0.25em;background-color: #f0f8ff;}#sk-container-id-2 input.sk-toggleable__control:checked~div.sk-toggleable__content {max-height: 200px;max-width: 100%;overflow: auto;}#sk-container-id-2 input.sk-toggleable__control:checked~label.sk-toggleable__label-arrow:before {content: \"▾\";}#sk-container-id-2 div.sk-estimator input.sk-toggleable__control:checked~label.sk-toggleable__label {background-color: #d4ebff;}#sk-container-id-2 div.sk-label input.sk-toggleable__control:checked~label.sk-toggleable__label {background-color: #d4ebff;}#sk-container-id-2 input.sk-hidden--visually {border: 0;clip: rect(1px 1px 1px 1px);clip: rect(1px, 1px, 1px, 1px);height: 1px;margin: -1px;overflow: hidden;padding: 0;position: absolute;width: 1px;}#sk-container-id-2 div.sk-estimator {font-family: monospace;background-color: #f0f8ff;border: 1px dotted black;border-radius: 0.25em;box-sizing: border-box;margin-bottom: 0.5em;}#sk-container-id-2 div.sk-estimator:hover {background-color: #d4ebff;}#sk-container-id-2 div.sk-parallel-item::after {content: \"\";width: 100%;border-bottom: 1px solid gray;flex-grow: 1;}#sk-container-id-2 div.sk-label:hover label.sk-toggleable__label {background-color: #d4ebff;}#sk-container-id-2 div.sk-serial::before {content: \"\";position: absolute;border-left: 1px solid gray;box-sizing: border-box;top: 0;bottom: 0;left: 50%;z-index: 0;}#sk-container-id-2 div.sk-serial {display: flex;flex-direction: column;align-items: center;background-color: white;padding-right: 0.2em;padding-left: 0.2em;position: relative;}#sk-container-id-2 div.sk-item {position: relative;z-index: 1;}#sk-container-id-2 div.sk-parallel {display: flex;align-items: stretch;justify-content: center;background-color: white;position: relative;}#sk-container-id-2 div.sk-item::before, #sk-container-id-2 div.sk-parallel-item::before {content: \"\";position: absolute;border-left: 1px solid gray;box-sizing: border-box;top: 0;bottom: 0;left: 50%;z-index: -1;}#sk-container-id-2 div.sk-parallel-item {display: flex;flex-direction: column;z-index: 1;position: relative;background-color: white;}#sk-container-id-2 div.sk-parallel-item:first-child::after {align-self: flex-end;width: 50%;}#sk-container-id-2 div.sk-parallel-item:last-child::after {align-self: flex-start;width: 50%;}#sk-container-id-2 div.sk-parallel-item:only-child::after {width: 0;}#sk-container-id-2 div.sk-dashed-wrapped {border: 1px dashed gray;margin: 0 0.4em 0.5em 0.4em;box-sizing: border-box;padding-bottom: 0.4em;background-color: white;}#sk-container-id-2 div.sk-label label {font-family: monospace;font-weight: bold;display: inline-block;line-height: 1.2em;}#sk-container-id-2 div.sk-label-container {text-align: center;}#sk-container-id-2 div.sk-container {/* jupyter's `normalize.less` sets `[hidden] { display: none; }` but bootstrap.min.css set `[hidden] { display: none !important; }` so we also need the `!important` here to be able to override the default hidden behavior on the sphinx rendered scikit-learn.org. See: https://github.com/scikit-learn/scikit-learn/issues/21755 */display: inline-block !important;position: relative;}#sk-container-id-2 div.sk-text-repr-fallback {display: none;}</style><div id=\"sk-container-id-2\" class=\"sk-top-container\"><div class=\"sk-text-repr-fallback\"><pre>SVC()</pre><b>In a Jupyter environment, please rerun this cell to show the HTML representation or trust the notebook. <br />On GitHub, the HTML representation is unable to render, please try loading this page with nbviewer.org.</b></div><div class=\"sk-container\" hidden><div class=\"sk-item\"><div class=\"sk-estimator sk-toggleable\"><input class=\"sk-toggleable__control sk-hidden--visually\" id=\"sk-estimator-id-2\" type=\"checkbox\" checked><label for=\"sk-estimator-id-2\" class=\"sk-toggleable__label sk-toggleable__label-arrow\">SVC</label><div class=\"sk-toggleable__content\"><pre>SVC()</pre></div></div></div></div></div>"
      ],
      "text/plain": [
       "SVC()"
      ]
     },
     "execution_count": 117,
     "metadata": {},
     "output_type": "execute_result"
    }
   ],
   "source": [
    "loaded_model"
   ]
  }
 ],
 "metadata": {
  "kernelspec": {
   "display_name": "Python 3 (ipykernel)",
   "language": "python",
   "name": "python3"
  },
  "language_info": {
   "codemirror_mode": {
    "name": "ipython",
    "version": 3
   },
   "file_extension": ".py",
   "mimetype": "text/x-python",
   "name": "python",
   "nbconvert_exporter": "python",
   "pygments_lexer": "ipython3",
   "version": "3.9.12"
  }
 },
 "nbformat": 4,
 "nbformat_minor": 5
}
